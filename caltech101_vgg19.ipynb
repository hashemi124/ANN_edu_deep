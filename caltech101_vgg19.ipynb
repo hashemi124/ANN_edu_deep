{
  "nbformat": 4,
  "nbformat_minor": 0,
  "metadata": {
    "colab": {
      "name": "Untitled10.ipynb",
      "provenance": [],
      "authorship_tag": "ABX9TyPX//PodjhQmED43H7vLt4I",
      "include_colab_link": true
    },
    "kernelspec": {
      "name": "python3",
      "display_name": "Python 3"
    }
  },
  "cells": [
    {
      "cell_type": "markdown",
      "metadata": {
        "id": "view-in-github",
        "colab_type": "text"
      },
      "source": [
        "<a href=\"https://colab.research.google.com/github/hashemi124/ANN_edu_deep/blob/master/caltech101_vgg19.ipynb\" target=\"_parent\"><img src=\"https://colab.research.google.com/assets/colab-badge.svg\" alt=\"Open In Colab\"/></a>"
      ]
    },
    {
      "cell_type": "code",
      "metadata": {
        "id": "Kbs2TXz3Tnm1",
        "colab_type": "code",
        "colab": {}
      },
      "source": [
        "from google.colab import drive\n",
        "drive.mount('/content/drive')"
      ],
      "execution_count": null,
      "outputs": []
    },
    {
      "cell_type": "code",
      "metadata": {
        "id": "ifyCPPSpT2Bd",
        "colab_type": "code",
        "colab": {}
      },
      "source": [
        "import numpy as np\n",
        "from matplotlib import pyplot as plt\n",
        "import tensorflow as tf\n",
        "from tensorflow.keras.layers import Dense, Conv2D, MaxPool2D, Flatten\n",
        "from tensorflow.keras.optimizers import SGD, Adam\n",
        "from tensorflow.keras.preprocessing.image import ImageDataGenerator"
      ],
      "execution_count": 1,
      "outputs": []
    },
    {
      "cell_type": "code",
      "metadata": {
        "id": "vgzF30bCT3Xb",
        "colab_type": "code",
        "colab": {}
      },
      "source": [
        "dir = '/content/drive/My Drive/Colab Notebooks/Caltech101/train'\n",
        "\n",
        "width = 299\n",
        "height = 299"
      ],
      "execution_count": 2,
      "outputs": []
    },
    {
      "cell_type": "code",
      "metadata": {
        "id": "QTvShgRMUL7R",
        "colab_type": "code",
        "colab": {}
      },
      "source": [
        "data_generator = ImageDataGenerator(\n",
        "    rotation_range = 10,\n",
        "    horizontal_flip = True,\n",
        "    vertical_flip = True,\n",
        "    zoom_range = 0.1,\n",
        "    width_shift_range = 0.2,\n",
        "    height_shift_range = 0.1,\n",
        "    rescale = 1 / 255,\n",
        "    validation_split =0.1,\n",
        "  \n",
        ")\n",
        "\n",
        "train_data = data_generator.flow_from_directory(\n",
        "    dir,\n",
        "    target_size = (width, height),\n",
        "    batch_size = 8,\n",
        "    # save_to_dir = '/content/drive/My Drive/Colab Notebooks/augment_animals',\n",
        "    class_mode = 'categorical',\n",
        "    subset = 'training'\n",
        ")\n",
        "\n",
        "validation_data = data_generator.flow_from_directory(\n",
        "   dir,# '/content/drive/My Drive/Colab Notebooks/Caltech101/test',\n",
        "    target_size = (width, height),\n",
        "    batch_size = 4,\n",
        "    class_mode = 'categorical',\n",
        "    subset = 'validation'\n",
        ")"
      ],
      "execution_count": null,
      "outputs": []
    },
    {
      "cell_type": "code",
      "metadata": {
        "id": "e_QyKhIuZyfl",
        "colab_type": "code",
        "colab": {}
      },
      "source": [
        "base_model = tf.keras.applications.VGG19(\n",
        "    include_top=False,\n",
        "    weights=\"imagenet\",\n",
        "    input_tensor=None,\n",
        "    input_shape=None,\n",
        "    pooling='avg',\n",
        "    #classes=15,\n",
        "    classifier_activation=\"softmax\",\n",
        ")"
      ],
      "execution_count": 4,
      "outputs": []
    },
    {
      "cell_type": "code",
      "metadata": {
        "id": "6SgTv18rd0iu",
        "colab_type": "code",
        "colab": {}
      },
      "source": [
        "base_model.summary()"
      ],
      "execution_count": null,
      "outputs": []
    },
    {
      "cell_type": "code",
      "metadata": {
        "id": "vkHxS7MoZ3uJ",
        "colab_type": "code",
        "colab": {}
      },
      "source": [
        "model = tf.keras.models.Sequential([\n",
        "\n",
        "    base_model,\n",
        "    Flatten(),\n",
        "    Dense(512, activation='relu'),\n",
        "    Dense(64, activation='relu'),\n",
        "    Dense(15, activation='softmax'),\n",
        "])\n",
        "\n"
      ],
      "execution_count": 6,
      "outputs": []
    },
    {
      "cell_type": "code",
      "metadata": {
        "id": "W_jcKi-4Z5to",
        "colab_type": "code",
        "colab": {}
      },
      "source": [
        "model.summary()"
      ],
      "execution_count": null,
      "outputs": []
    },
    {
      "cell_type": "code",
      "metadata": {
        "id": "p-SxA221aGjS",
        "colab_type": "code",
        "colab": {}
      },
      "source": [
        "\n",
        "tf.keras.utils.plot_model(model, show_shapes=True)"
      ],
      "execution_count": null,
      "outputs": []
    },
    {
      "cell_type": "code",
      "metadata": {
        "id": "5dIYd6mMaNrr",
        "colab_type": "code",
        "colab": {}
      },
      "source": [
        "model.compile(optimizer=SGD(), \n",
        "              loss = tf.keras.losses.categorical_crossentropy,\n",
        "              metrics=['accuracy'])"
      ],
      "execution_count": 8,
      "outputs": []
    },
    {
      "cell_type": "code",
      "metadata": {
        "id": "mSyTQN5MaTHi",
        "colab_type": "code",
        "colab": {}
      },
      "source": [
        "callbacks = [\n",
        "    tf.keras.callbacks.ModelCheckpoint(\"save_at_{epoch}.h5\"),\n",
        "]"
      ],
      "execution_count": 9,
      "outputs": []
    },
    {
      "cell_type": "code",
      "metadata": {
        "id": "Py96hSpDaW9R",
        "colab_type": "code",
        "colab": {
          "base_uri": "https://localhost:8080/",
          "height": 90
        },
        "outputId": "4dc6a708-cc80-4671-a871-6753441f5bb9"
      },
      "source": [
        "batch_size = 8\n",
        "\n",
        "output = model.fit(\n",
        "    train_data,\n",
        "    steps_per_epoch = train_data.samples // batch_size,\n",
        "    epochs = 100,\n",
        "    validation_data = validation_data, \n",
        "    validation_steps = validation_data.samples // batch_size,    \n",
        "   # class_weight = {0:1 , 1:1 , 2:2},\n",
        "    shuffle = True,\n",
        "    #callbacks=callbacks\n",
        ")"
      ],
      "execution_count": null,
      "outputs": [
        {
          "output_type": "stream",
          "text": [
            "Epoch 1/100\n",
            "50/50 [==============================] - 1517s 30s/step - loss: 2.6436 - accuracy: 0.1335 - val_loss: 2.5555 - val_accuracy: 0.2000\n",
            "Epoch 2/100\n",
            "29/50 [================>.............] - ETA: 10:14 - loss: 2.3483 - accuracy: 0.2707"
          ],
          "name": "stdout"
        }
      ]
    },
    {
      "cell_type": "code",
      "metadata": {
        "id": "Zdb6T00wZEu7",
        "colab_type": "code",
        "colab": {}
      },
      "source": [
        "import cv2 as cv\n",
        "img = cv.imread('image.png')\n",
        "img = cv.resize(img, (299, 299))\n",
        "img = cv.cvtColor(img, cv.COLOR_BGR2RGB)\n",
        "\n",
        "img = img / 255.0\n",
        "\n",
        "img = img.reshape(1, 299, 299, 3)\n",
        "\n",
        "y_pred = model.predict(img)\n",
        "print(y_pred)\n",
        "print(np.argmax(y_pred))"
      ],
      "execution_count": null,
      "outputs": []
    }
  ]
}