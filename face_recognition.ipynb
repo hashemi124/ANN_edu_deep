{
  "nbformat": 4,
  "nbformat_minor": 0,
  "metadata": {
    "colab": {
      "name": "Untitled1.ipynb",
      "provenance": [],
      "collapsed_sections": [],
      "authorship_tag": "ABX9TyMU/1KGjkyG5IwP+7tQDu8N",
      "include_colab_link": true
    },
    "kernelspec": {
      "name": "python3",
      "display_name": "Python 3"
    }
  },
  "cells": [
    {
      "cell_type": "markdown",
      "metadata": {
        "id": "view-in-github",
        "colab_type": "text"
      },
      "source": [
        "<a href=\"https://colab.research.google.com/github/hashemi124/ANN_edu_deep/blob/master/face_recognition.ipynb\" target=\"_parent\"><img src=\"https://colab.research.google.com/assets/colab-badge.svg\" alt=\"Open In Colab\"/></a>"
      ]
    },
    {
      "cell_type": "code",
      "metadata": {
        "id": "jxsjhWBIWzRA",
        "colab_type": "code",
        "colab": {
          "base_uri": "https://localhost:8080/",
          "height": 122
        },
        "outputId": "da2fab8e-9ff2-494e-d31f-d379b4ce8154"
      },
      "source": [
        "from google.colab import drive\n",
        "drive.mount('/content/drive')"
      ],
      "execution_count": 1,
      "outputs": [
        {
          "output_type": "stream",
          "text": [
            "Go to this URL in a browser: https://accounts.google.com/o/oauth2/auth?client_id=947318989803-6bn6qk8qdgf4n4g3pfee6491hc0brc4i.apps.googleusercontent.com&redirect_uri=urn%3aietf%3awg%3aoauth%3a2.0%3aoob&response_type=code&scope=email%20https%3a%2f%2fwww.googleapis.com%2fauth%2fdocs.test%20https%3a%2f%2fwww.googleapis.com%2fauth%2fdrive%20https%3a%2f%2fwww.googleapis.com%2fauth%2fdrive.photos.readonly%20https%3a%2f%2fwww.googleapis.com%2fauth%2fpeopleapi.readonly\n",
            "\n",
            "Enter your authorization code:\n",
            "··········\n",
            "Mounted at /content/drive\n"
          ],
          "name": "stdout"
        }
      ]
    },
    {
      "cell_type": "code",
      "metadata": {
        "id": "_tIVks0aYDQz",
        "colab_type": "code",
        "colab": {}
      },
      "source": [
        "import numpy as np\n",
        "from keras_preprocessing.image import ImageDataGenerator\n",
        "from matplotlib import pyplot as plt\n",
        "import tensorflow as tf\n",
        "from tensorflow.keras.layers import Dense, Conv2D, MaxPool2D, Flatten\n",
        "from tensorflow.keras.optimizers import SGD, Adam\n",
        "\n",
        "from tensorflow.keras import layers"
      ],
      "execution_count": 0,
      "outputs": []
    },
    {
      "cell_type": "code",
      "metadata": {
        "id": "S6Eb0nHAYRri",
        "colab_type": "code",
        "colab": {
          "base_uri": "https://localhost:8080/",
          "height": 51
        },
        "outputId": "c2ad20ee-8cc4-4f9c-d44c-f1c99636caef"
      },
      "source": [
        "dir = \"/content/drive/My Drive/Colab Notebooks/face daatset\"\n",
        "\n",
        "\n",
        "width = 250\n",
        "height = 250\n",
        "data_generator = ImageDataGenerator(\n",
        "    rotation_range = 2,\n",
        "    horizontal_flip = True,\n",
        "    # vertical_flip = True,\n",
        "    zoom_range = 0.1,\n",
        "    # width_shift_range = 0.2,\n",
        "    #height_shift_range = 0.1,\n",
        "    #rescale = 1 / 255,\n",
        "    validation_split = 0.1,\n",
        ")\n",
        "\n",
        "train_data = data_generator.flow_from_directory(\n",
        "    dir,\n",
        "    target_size = (width, height),\n",
        "    batch_size = 4,\n",
        "    # save_to_dir = '/content/drive/My Drive/Colab Notebooks/augment_animals',\n",
        "    class_mode = 'categorical',\n",
        "    subset = 'training'\n",
        ")\n",
        "\n",
        "val_data = data_generator.flow_from_directory(\n",
        "    dir,\n",
        "    #save_to_dir='H:/edu_py_hashemi/face daatset',\n",
        "    target_size = (width, height),\n",
        "    batch_size = 10,\n",
        "    class_mode = 'categorical',\n",
        "    subset = 'validation'\n",
        "\n",
        ")\n"
      ],
      "execution_count": 68,
      "outputs": [
        {
          "output_type": "stream",
          "text": [
            "Found 977 images belonging to 8 classes.\n",
            "Found 105 images belonging to 8 classes.\n"
          ],
          "name": "stdout"
        }
      ]
    },
    {
      "cell_type": "code",
      "metadata": {
        "id": "yN2dkCqhYWgD",
        "colab_type": "code",
        "colab": {}
      },
      "source": [
        "model_base=tf.keras.applications.VGG19(\n",
        "    include_top=False,\n",
        "    weights=\"imagenet\",\n",
        "    input_tensor=None,\n",
        "    input_shape=None,\n",
        "    pooling='avg',\n",
        "    #classes=1000,\n",
        "    classifier_activation=\"softmax\",\n",
        ")\n"
      ],
      "execution_count": 0,
      "outputs": []
    },
    {
      "cell_type": "code",
      "metadata": {
        "id": "GAWAx3voh_jd",
        "colab_type": "code",
        "colab": {}
      },
      "source": [
        "# Fine-tune from this layer onwards\n",
        "fine_tune_at = 100\n",
        "\n",
        "# Freeze all the layers before the `fine_tune_at` layer\n",
        "for layer in model_base.layers[:fine_tune_at]:\n",
        "  layer.trainable =  False\n"
      ],
      "execution_count": 0,
      "outputs": []
    },
    {
      "cell_type": "code",
      "metadata": {
        "id": "kMTVWEiVe-D7",
        "colab_type": "code",
        "colab": {}
      },
      "source": [
        "model_base.summary()"
      ],
      "execution_count": 0,
      "outputs": []
    },
    {
      "cell_type": "code",
      "metadata": {
        "id": "hxu1PX1UbaY4",
        "colab_type": "code",
        "colab": {}
      },
      "source": [
        "model_f = tf.keras.models.Sequential([\n",
        "     model_base,\n",
        "     Flatten(),\n",
        "     Dense(128, activation='relu'),\n",
        "     Dense(64, activation='relu'),\n",
        "     Dense(8, activation='softmax'),\n",
        "])"
      ],
      "execution_count": 0,
      "outputs": []
    },
    {
      "cell_type": "code",
      "metadata": {
        "id": "YTbq_ewFbGbO",
        "colab_type": "code",
        "colab": {
          "base_uri": "https://localhost:8080/",
          "height": 85
        },
        "outputId": "bd77ce91-9dc0-454d-8e3d-07b123bc4d5e"
      },
      "source": [
        "model_f.compile(optimizer=Adam(),\n",
        "              loss = tf.keras.losses.categorical_crossentropy,\n",
        "              metrics=['accuracy'])\n",
        "\n",
        "output = model_f.fit(\n",
        "    train_data,\n",
        "    steps_per_epoch = train_data.samples ,#// batch_size,\n",
        "    epochs = 100,\n",
        "    validation_data =  val_data,\n",
        "    validation_steps = val_data.samples ,#// batch_size,\n",
        "   # class_weight = {0:1 , 1:1 , 2:2,3:3,4:4,5:5,6:6,7:7},\n",
        "    shuffle = True,\n",
        ")"
      ],
      "execution_count": 0,
      "outputs": [
        {
          "output_type": "stream",
          "text": [
            "Epoch 1/100\n",
            "977/977 [==============================] - 3799s 4s/step - loss: 0.6927 - accuracy: 0.7674 - val_loss: 0.5565 - val_accuracy: 0.8348\n",
            "Epoch 2/100\n",
            "554/977 [================>.............] - ETA: 21:45 - loss: 0.2626 - accuracy: 0.9162"
          ],
          "name": "stdout"
        }
      ]
    },
    {
      "cell_type": "code",
      "metadata": {
        "id": "_08ghR0eVMrb",
        "colab_type": "code",
        "colab": {}
      },
      "source": [
        "# Fine-tune from this layer onwards\n",
        "fine_tune_at = 100\n",
        "\n",
        "# Freeze all the layers before the `fine_tune_at` layer\n",
        "for layer in base_model.layers[:fine_tune_at]:\n",
        "  layer.trainable =  False\n"
      ],
      "execution_count": 0,
      "outputs": []
    },
    {
      "cell_type": "code",
      "metadata": {
        "id": "v-v8Ct_kZ_eh",
        "colab_type": "code",
        "colab": {}
      },
      "source": [
        "model.summary()"
      ],
      "execution_count": 0,
      "outputs": []
    }
  ]
}