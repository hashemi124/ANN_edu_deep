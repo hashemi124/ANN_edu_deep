{
  "nbformat": 4,
  "nbformat_minor": 0,
  "metadata": {
    "colab": {
      "name": "Untitled10.ipynb",
      "provenance": [],
      "collapsed_sections": [],
      "authorship_tag": "ABX9TyN8Nfx1ulrQI/AA9qC8jruv",
      "include_colab_link": true
    },
    "kernelspec": {
      "name": "python3",
      "display_name": "Python 3"
    },
    "accelerator": "GPU"
  },
  "cells": [
    {
      "cell_type": "markdown",
      "metadata": {
        "id": "view-in-github",
        "colab_type": "text"
      },
      "source": [
        "<a href=\"https://colab.research.google.com/github/hashemi124/ANN_edu_deep/blob/master/Untitled10.ipynb\" target=\"_parent\"><img src=\"https://colab.research.google.com/assets/colab-badge.svg\" alt=\"Open In Colab\"/></a>"
      ]
    },
    {
      "cell_type": "code",
      "metadata": {
        "id": "Kbs2TXz3Tnm1",
        "colab_type": "code",
        "colab": {
          "base_uri": "https://localhost:8080/",
          "height": 122
        },
        "outputId": "4439783d-d242-4e69-86a2-43f6c6ae51c4"
      },
      "source": [
        "from google.colab import drive\n",
        "drive.mount('/content/drive')"
      ],
      "execution_count": 8,
      "outputs": [
        {
          "output_type": "stream",
          "text": [
            "Go to this URL in a browser: https://accounts.google.com/o/oauth2/auth?client_id=947318989803-6bn6qk8qdgf4n4g3pfee6491hc0brc4i.apps.googleusercontent.com&redirect_uri=urn%3aietf%3awg%3aoauth%3a2.0%3aoob&response_type=code&scope=email%20https%3a%2f%2fwww.googleapis.com%2fauth%2fdocs.test%20https%3a%2f%2fwww.googleapis.com%2fauth%2fdrive%20https%3a%2f%2fwww.googleapis.com%2fauth%2fdrive.photos.readonly%20https%3a%2f%2fwww.googleapis.com%2fauth%2fpeopleapi.readonly\n",
            "\n",
            "Enter your authorization code:\n",
            "··········\n",
            "Mounted at /content/drive\n"
          ],
          "name": "stdout"
        }
      ]
    },
    {
      "cell_type": "code",
      "metadata": {
        "id": "ifyCPPSpT2Bd",
        "colab_type": "code",
        "colab": {}
      },
      "source": [
        "import numpy as np\n",
        "from matplotlib import pyplot as plt\n",
        "import tensorflow as tf\n",
        "from tensorflow.keras.layers import Dense, Conv2D, MaxPool2D, Flatten\n",
        "from tensorflow.keras.optimizers import SGD, Adam\n",
        "from tensorflow.keras.preprocessing.image import ImageDataGenerator"
      ],
      "execution_count": 9,
      "outputs": []
    },
    {
      "cell_type": "code",
      "metadata": {
        "id": "vgzF30bCT3Xb",
        "colab_type": "code",
        "colab": {}
      },
      "source": [
        "dir = '/content/drive/My Drive/Colab Notebooks/Caltech101/train'\n",
        "\n",
        "width = 299\n",
        "height = 299"
      ],
      "execution_count": 32,
      "outputs": []
    },
    {
      "cell_type": "code",
      "metadata": {
        "id": "QTvShgRMUL7R",
        "colab_type": "code",
        "colab": {
          "base_uri": "https://localhost:8080/",
          "height": 51
        },
        "outputId": "d2facd6d-9796-4994-ed58-56179de04ebf"
      },
      "source": [
        "data_generator = ImageDataGenerator(\n",
        "    fill_mode=\"nearest\",\n",
        "    rotation_range = 20,\n",
        "    horizontal_flip = True,\n",
        "    vertical_flip = True,\n",
        "    zoom_range = 0.1,\n",
        "    width_shift_range = 0.2,\n",
        "    height_shift_range = 0.2,\n",
        "    rescale = 1 / 255,\n",
        "    validation_split =0.1,\n",
        "  \n",
        ")\n",
        "\n",
        "train_data = data_generator.flow_from_directory(\n",
        "    dir,\n",
        "    target_size = (width, height),\n",
        "    batch_size = 8,\n",
        "    \n",
        "    # save_to_dir = '/content/drive/My Drive/Colab Notebooks/augment_animals',\n",
        "    class_mode = 'categorical',\n",
        "    subset = 'training'\n",
        ")\n",
        "\n",
        "validation_data = data_generator.flow_from_directory(\n",
        "   dir,# '/content/drive/My Drive/Colab Notebooks/Caltech101/test',\n",
        "    target_size = (width, height),\n",
        "    batch_size = 4,\n",
        "    class_mode = 'categorical',\n",
        "    subset = 'validation'\n",
        ")"
      ],
      "execution_count": 44,
      "outputs": [
        {
          "output_type": "stream",
          "text": [
            "Found 405 images belonging to 15 classes.\n",
            "Found 45 images belonging to 15 classes.\n"
          ],
          "name": "stdout"
        }
      ]
    },
    {
      "cell_type": "code",
      "metadata": {
        "id": "e_QyKhIuZyfl",
        "colab_type": "code",
        "colab": {}
      },
      "source": [
        "base_model = tf.keras.applications.ResNet152(\n",
        "    include_top=False,\n",
        "    weights=\"imagenet\",\n",
        "    input_tensor=None,\n",
        "    input_shape=None,\n",
        "    pooling='avg',\n",
        "    #classes=15,\n",
        "    classifier_activation=\"softmax\",\n",
        ")"
      ],
      "execution_count": 45,
      "outputs": []
    },
    {
      "cell_type": "code",
      "metadata": {
        "id": "6SgTv18rd0iu",
        "colab_type": "code",
        "colab": {}
      },
      "source": [
        "base_model.summary()"
      ],
      "execution_count": null,
      "outputs": []
    },
    {
      "cell_type": "code",
      "metadata": {
        "id": "vkHxS7MoZ3uJ",
        "colab_type": "code",
        "colab": {}
      },
      "source": [
        "model = tf.keras.models.Sequential([\n",
        "\n",
        "    base_model,\n",
        "    Flatten(),\n",
        "    Dense(512, activation='relu'),\n",
        "    Dense(64, activation='relu'),\n",
        "    Dense(15, activation='softmax'),\n",
        "])\n",
        "\n"
      ],
      "execution_count": 46,
      "outputs": []
    },
    {
      "cell_type": "code",
      "metadata": {
        "id": "W_jcKi-4Z5to",
        "colab_type": "code",
        "colab": {}
      },
      "source": [
        "model.summary()"
      ],
      "execution_count": null,
      "outputs": []
    },
    {
      "cell_type": "code",
      "metadata": {
        "id": "p-SxA221aGjS",
        "colab_type": "code",
        "colab": {}
      },
      "source": [
        "\n",
        "tf.keras.utils.plot_model(model, show_shapes=True)"
      ],
      "execution_count": null,
      "outputs": []
    },
    {
      "cell_type": "code",
      "metadata": {
        "id": "5dIYd6mMaNrr",
        "colab_type": "code",
        "colab": {}
      },
      "source": [
        "model.compile(optimizer=SGD(), \n",
        "              loss = tf.keras.losses.categorical_crossentropy,\n",
        "              metrics=['accuracy'])"
      ],
      "execution_count": 47,
      "outputs": []
    },
    {
      "cell_type": "code",
      "metadata": {
        "id": "mSyTQN5MaTHi",
        "colab_type": "code",
        "colab": {}
      },
      "source": [
        "callbacks = [\n",
        "    tf.keras.callbacks.ModelCheckpoint(\"save_at_{epoch}.h5\"),\n",
        "]"
      ],
      "execution_count": null,
      "outputs": []
    },
    {
      "cell_type": "code",
      "metadata": {
        "id": "Py96hSpDaW9R",
        "colab_type": "code",
        "colab": {
          "base_uri": "https://localhost:8080/",
          "height": 1000
        },
        "outputId": "cfa68cd8-b227-435e-95ab-f482bb03202d"
      },
      "source": [
        "batch_size = 32\n",
        "\n",
        "output = model.fit(\n",
        "    train_data,\n",
        "    steps_per_epoch = train_data.samples // batch_size,\n",
        "    epochs = 80,\n",
        "    validation_data = validation_data, \n",
        "    validation_steps = validation_data.samples // batch_size,    \n",
        "   # class_weight = {0:1 , 1:1 , 2:2},\n",
        "    shuffle = True,\n",
        "    #callbacks=callbacks\n",
        ")"
      ],
      "execution_count": 50,
      "outputs": [
        {
          "output_type": "stream",
          "text": [
            "Epoch 1/80\n",
            "12/12 [==============================] - 11s 938ms/step - loss: 0.0061 - accuracy: 1.0000 - val_loss: 0.0115 - val_accuracy: 1.0000\n",
            "Epoch 2/80\n",
            "12/12 [==============================] - 11s 940ms/step - loss: 0.0042 - accuracy: 1.0000 - val_loss: 0.2560 - val_accuracy: 1.0000\n",
            "Epoch 3/80\n",
            "12/12 [==============================] - 11s 938ms/step - loss: 0.0027 - accuracy: 1.0000 - val_loss: 0.0091 - val_accuracy: 1.0000\n",
            "Epoch 4/80\n",
            "12/12 [==============================] - 11s 936ms/step - loss: 0.0116 - accuracy: 1.0000 - val_loss: 0.0211 - val_accuracy: 1.0000\n",
            "Epoch 5/80\n",
            "12/12 [==============================] - 11s 934ms/step - loss: 0.0103 - accuracy: 1.0000 - val_loss: 0.0017 - val_accuracy: 1.0000\n",
            "Epoch 6/80\n",
            "12/12 [==============================] - 11s 937ms/step - loss: 0.0043 - accuracy: 1.0000 - val_loss: 1.5397e-04 - val_accuracy: 1.0000\n",
            "Epoch 7/80\n",
            "12/12 [==============================] - 11s 912ms/step - loss: 0.0043 - accuracy: 1.0000 - val_loss: 2.3484e-05 - val_accuracy: 1.0000\n",
            "Epoch 8/80\n",
            "12/12 [==============================] - 11s 931ms/step - loss: 0.0110 - accuracy: 0.9896 - val_loss: 0.2982 - val_accuracy: 0.7500\n",
            "Epoch 9/80\n",
            "12/12 [==============================] - 11s 935ms/step - loss: 0.0010 - accuracy: 1.0000 - val_loss: 0.0010 - val_accuracy: 1.0000\n",
            "Epoch 10/80\n",
            "12/12 [==============================] - 11s 934ms/step - loss: 0.0274 - accuracy: 1.0000 - val_loss: 5.4357e-05 - val_accuracy: 1.0000\n",
            "Epoch 11/80\n",
            "12/12 [==============================] - 11s 934ms/step - loss: 0.0033 - accuracy: 1.0000 - val_loss: 1.1430 - val_accuracy: 0.7500\n",
            "Epoch 12/80\n",
            "12/12 [==============================] - 11s 930ms/step - loss: 0.0228 - accuracy: 1.0000 - val_loss: 0.0066 - val_accuracy: 1.0000\n",
            "Epoch 13/80\n",
            "12/12 [==============================] - 11s 926ms/step - loss: 0.0038 - accuracy: 1.0000 - val_loss: 0.2976 - val_accuracy: 0.7500\n",
            "Epoch 14/80\n",
            "12/12 [==============================] - 11s 927ms/step - loss: 0.0427 - accuracy: 0.9896 - val_loss: 0.2991 - val_accuracy: 0.7500\n",
            "Epoch 15/80\n",
            "12/12 [==============================] - 11s 931ms/step - loss: 0.0050 - accuracy: 1.0000 - val_loss: 1.0140 - val_accuracy: 0.7500\n",
            "Epoch 16/80\n",
            "12/12 [==============================] - 11s 929ms/step - loss: 0.0137 - accuracy: 1.0000 - val_loss: 0.0052 - val_accuracy: 1.0000\n",
            "Epoch 17/80\n",
            "12/12 [==============================] - 11s 930ms/step - loss: 0.0068 - accuracy: 1.0000 - val_loss: 0.0018 - val_accuracy: 1.0000\n",
            "Epoch 18/80\n",
            "12/12 [==============================] - 11s 930ms/step - loss: 0.0032 - accuracy: 1.0000 - val_loss: 1.2053 - val_accuracy: 0.7500\n",
            "Epoch 19/80\n",
            "12/12 [==============================] - 11s 908ms/step - loss: 0.0016 - accuracy: 1.0000 - val_loss: 0.0121 - val_accuracy: 1.0000\n",
            "Epoch 20/80\n",
            "12/12 [==============================] - 11s 937ms/step - loss: 0.0053 - accuracy: 1.0000 - val_loss: 4.9172e-05 - val_accuracy: 1.0000\n",
            "Epoch 21/80\n",
            "12/12 [==============================] - 11s 938ms/step - loss: 0.0021 - accuracy: 1.0000 - val_loss: 3.2525e-04 - val_accuracy: 1.0000\n",
            "Epoch 22/80\n",
            "12/12 [==============================] - 11s 935ms/step - loss: 0.0191 - accuracy: 0.9896 - val_loss: 1.2157e-04 - val_accuracy: 1.0000\n",
            "Epoch 23/80\n",
            "12/12 [==============================] - 11s 938ms/step - loss: 0.0153 - accuracy: 0.9896 - val_loss: 0.2505 - val_accuracy: 1.0000\n",
            "Epoch 24/80\n",
            "12/12 [==============================] - 11s 936ms/step - loss: 0.0217 - accuracy: 0.9896 - val_loss: 0.1011 - val_accuracy: 1.0000\n",
            "Epoch 25/80\n",
            "12/12 [==============================] - 11s 910ms/step - loss: 0.0079 - accuracy: 1.0000 - val_loss: 0.0045 - val_accuracy: 1.0000\n",
            "Epoch 26/80\n",
            "12/12 [==============================] - 11s 933ms/step - loss: 0.0052 - accuracy: 1.0000 - val_loss: 1.3562 - val_accuracy: 0.7500\n",
            "Epoch 27/80\n",
            "12/12 [==============================] - 11s 931ms/step - loss: 0.0068 - accuracy: 1.0000 - val_loss: 0.7088 - val_accuracy: 0.7500\n",
            "Epoch 28/80\n",
            "12/12 [==============================] - 11s 931ms/step - loss: 0.0041 - accuracy: 1.0000 - val_loss: 1.7080 - val_accuracy: 0.5000\n",
            "Epoch 29/80\n",
            "12/12 [==============================] - 11s 933ms/step - loss: 0.0055 - accuracy: 1.0000 - val_loss: 7.4559e-05 - val_accuracy: 1.0000\n",
            "Epoch 30/80\n",
            "12/12 [==============================] - 11s 933ms/step - loss: 0.0170 - accuracy: 1.0000 - val_loss: 1.4062 - val_accuracy: 0.7500\n",
            "Epoch 31/80\n",
            "12/12 [==============================] - 11s 933ms/step - loss: 0.0154 - accuracy: 0.9896 - val_loss: 1.4582 - val_accuracy: 0.7500\n",
            "Epoch 32/80\n",
            "12/12 [==============================] - 11s 931ms/step - loss: 0.0040 - accuracy: 1.0000 - val_loss: 0.0025 - val_accuracy: 1.0000\n",
            "Epoch 33/80\n",
            "12/12 [==============================] - 11s 935ms/step - loss: 0.0066 - accuracy: 1.0000 - val_loss: 0.2200 - val_accuracy: 1.0000\n",
            "Epoch 34/80\n",
            "12/12 [==============================] - 11s 909ms/step - loss: 0.0068 - accuracy: 1.0000 - val_loss: 2.3942e-04 - val_accuracy: 1.0000\n",
            "Epoch 35/80\n",
            "12/12 [==============================] - 11s 911ms/step - loss: 0.0030 - accuracy: 1.0000 - val_loss: 2.4438e-04 - val_accuracy: 1.0000\n",
            "Epoch 36/80\n",
            "12/12 [==============================] - 11s 933ms/step - loss: 0.0034 - accuracy: 1.0000 - val_loss: 8.7881e-05 - val_accuracy: 1.0000\n",
            "Epoch 37/80\n",
            "12/12 [==============================] - 11s 933ms/step - loss: 0.0055 - accuracy: 1.0000 - val_loss: 0.0113 - val_accuracy: 1.0000\n",
            "Epoch 38/80\n",
            "12/12 [==============================] - 11s 933ms/step - loss: 0.0033 - accuracy: 1.0000 - val_loss: 3.2718e-04 - val_accuracy: 1.0000\n",
            "Epoch 39/80\n",
            "12/12 [==============================] - 11s 912ms/step - loss: 0.0060 - accuracy: 1.0000 - val_loss: 4.1222 - val_accuracy: 0.7500\n",
            "Epoch 40/80\n",
            "12/12 [==============================] - 11s 910ms/step - loss: 0.0026 - accuracy: 1.0000 - val_loss: 3.5637 - val_accuracy: 0.7500\n",
            "Epoch 41/80\n",
            "12/12 [==============================] - 11s 933ms/step - loss: 0.0016 - accuracy: 1.0000 - val_loss: 0.2088 - val_accuracy: 1.0000\n",
            "Epoch 42/80\n",
            "12/12 [==============================] - 11s 932ms/step - loss: 0.0049 - accuracy: 1.0000 - val_loss: 0.0048 - val_accuracy: 1.0000\n",
            "Epoch 43/80\n",
            "12/12 [==============================] - 11s 935ms/step - loss: 0.0146 - accuracy: 1.0000 - val_loss: 0.0066 - val_accuracy: 1.0000\n",
            "Epoch 44/80\n",
            "12/12 [==============================] - 11s 936ms/step - loss: 0.0105 - accuracy: 1.0000 - val_loss: 0.0014 - val_accuracy: 1.0000\n",
            "Epoch 45/80\n",
            "12/12 [==============================] - 11s 912ms/step - loss: 0.0021 - accuracy: 1.0000 - val_loss: 0.0622 - val_accuracy: 1.0000\n",
            "Epoch 46/80\n",
            "12/12 [==============================] - 11s 914ms/step - loss: 0.0026 - accuracy: 1.0000 - val_loss: 0.0013 - val_accuracy: 1.0000\n",
            "Epoch 47/80\n",
            "12/12 [==============================] - 11s 934ms/step - loss: 0.0028 - accuracy: 1.0000 - val_loss: 0.1640 - val_accuracy: 1.0000\n",
            "Epoch 48/80\n",
            "12/12 [==============================] - 11s 933ms/step - loss: 0.0023 - accuracy: 1.0000 - val_loss: 1.2767 - val_accuracy: 0.7500\n",
            "Epoch 49/80\n",
            "12/12 [==============================] - 11s 932ms/step - loss: 9.6108e-04 - accuracy: 1.0000 - val_loss: 0.0024 - val_accuracy: 1.0000\n",
            "Epoch 50/80\n",
            "12/12 [==============================] - 11s 931ms/step - loss: 0.0023 - accuracy: 1.0000 - val_loss: 0.0041 - val_accuracy: 1.0000\n",
            "Epoch 51/80\n",
            "12/12 [==============================] - 11s 935ms/step - loss: 8.0630e-04 - accuracy: 1.0000 - val_loss: 0.0065 - val_accuracy: 1.0000\n",
            "Epoch 52/80\n",
            "12/12 [==============================] - 11s 934ms/step - loss: 0.0020 - accuracy: 1.0000 - val_loss: 0.3822 - val_accuracy: 0.7500\n",
            "Epoch 53/80\n",
            "12/12 [==============================] - 11s 936ms/step - loss: 0.0099 - accuracy: 1.0000 - val_loss: 0.1899 - val_accuracy: 1.0000\n",
            "Epoch 54/80\n",
            "12/12 [==============================] - 11s 911ms/step - loss: 0.0054 - accuracy: 1.0000 - val_loss: 0.0123 - val_accuracy: 1.0000\n",
            "Epoch 55/80\n",
            "12/12 [==============================] - 11s 936ms/step - loss: 0.0036 - accuracy: 1.0000 - val_loss: 0.2391 - val_accuracy: 0.7500\n",
            "Epoch 56/80\n",
            "12/12 [==============================] - 11s 937ms/step - loss: 0.0095 - accuracy: 0.9896 - val_loss: 5.1707e-04 - val_accuracy: 1.0000\n",
            "Epoch 57/80\n",
            "12/12 [==============================] - 11s 939ms/step - loss: 0.0047 - accuracy: 1.0000 - val_loss: 0.0032 - val_accuracy: 1.0000\n",
            "Epoch 58/80\n",
            "12/12 [==============================] - 11s 936ms/step - loss: 0.0033 - accuracy: 1.0000 - val_loss: 0.0029 - val_accuracy: 1.0000\n",
            "Epoch 59/80\n",
            "12/12 [==============================] - 11s 932ms/step - loss: 0.0133 - accuracy: 0.9896 - val_loss: 0.0343 - val_accuracy: 1.0000\n",
            "Epoch 60/80\n",
            "12/12 [==============================] - 11s 939ms/step - loss: 0.0367 - accuracy: 0.9896 - val_loss: 0.0176 - val_accuracy: 1.0000\n",
            "Epoch 61/80\n",
            "12/12 [==============================] - 11s 910ms/step - loss: 0.0053 - accuracy: 1.0000 - val_loss: 1.0922e-04 - val_accuracy: 1.0000\n",
            "Epoch 62/80\n",
            "12/12 [==============================] - 11s 933ms/step - loss: 0.0110 - accuracy: 0.9896 - val_loss: 1.6927e-05 - val_accuracy: 1.0000\n",
            "Epoch 63/80\n",
            "12/12 [==============================] - 11s 934ms/step - loss: 0.0167 - accuracy: 0.9896 - val_loss: 0.9368 - val_accuracy: 0.7500\n",
            "Epoch 64/80\n",
            "12/12 [==============================] - 11s 933ms/step - loss: 0.0026 - accuracy: 1.0000 - val_loss: 0.0855 - val_accuracy: 1.0000\n",
            "Epoch 65/80\n",
            "12/12 [==============================] - 11s 937ms/step - loss: 0.0047 - accuracy: 1.0000 - val_loss: 1.6231e-04 - val_accuracy: 1.0000\n",
            "Epoch 66/80\n",
            "12/12 [==============================] - 11s 935ms/step - loss: 0.0098 - accuracy: 1.0000 - val_loss: 0.0067 - val_accuracy: 1.0000\n",
            "Epoch 67/80\n",
            "12/12 [==============================] - 11s 934ms/step - loss: 0.0054 - accuracy: 1.0000 - val_loss: 3.2165e-04 - val_accuracy: 1.0000\n",
            "Epoch 68/80\n",
            "12/12 [==============================] - 11s 935ms/step - loss: 0.0050 - accuracy: 1.0000 - val_loss: 0.0057 - val_accuracy: 1.0000\n",
            "Epoch 69/80\n",
            "12/12 [==============================] - 11s 910ms/step - loss: 0.0136 - accuracy: 1.0000 - val_loss: 8.7281e-05 - val_accuracy: 1.0000\n",
            "Epoch 70/80\n",
            "12/12 [==============================] - 11s 939ms/step - loss: 0.0020 - accuracy: 1.0000 - val_loss: 0.0137 - val_accuracy: 1.0000\n",
            "Epoch 71/80\n",
            "12/12 [==============================] - 11s 934ms/step - loss: 0.0025 - accuracy: 1.0000 - val_loss: 1.1627 - val_accuracy: 0.7500\n",
            "Epoch 72/80\n",
            "12/12 [==============================] - 11s 933ms/step - loss: 0.0032 - accuracy: 1.0000 - val_loss: 0.0066 - val_accuracy: 1.0000\n",
            "Epoch 73/80\n",
            "12/12 [==============================] - 11s 935ms/step - loss: 0.0066 - accuracy: 1.0000 - val_loss: 0.0011 - val_accuracy: 1.0000\n",
            "Epoch 74/80\n",
            "12/12 [==============================] - 11s 937ms/step - loss: 0.0011 - accuracy: 1.0000 - val_loss: 2.6344e-05 - val_accuracy: 1.0000\n",
            "Epoch 75/80\n",
            "12/12 [==============================] - 11s 937ms/step - loss: 0.0057 - accuracy: 1.0000 - val_loss: 0.1878 - val_accuracy: 1.0000\n",
            "Epoch 76/80\n",
            "12/12 [==============================] - 11s 935ms/step - loss: 0.0041 - accuracy: 1.0000 - val_loss: 8.2175e-04 - val_accuracy: 1.0000\n",
            "Epoch 77/80\n",
            "12/12 [==============================] - 11s 908ms/step - loss: 0.0013 - accuracy: 1.0000 - val_loss: 0.0354 - val_accuracy: 1.0000\n",
            "Epoch 78/80\n",
            "12/12 [==============================] - 11s 940ms/step - loss: 0.0048 - accuracy: 1.0000 - val_loss: 2.7149e-04 - val_accuracy: 1.0000\n",
            "Epoch 79/80\n",
            "12/12 [==============================] - 11s 937ms/step - loss: 0.0016 - accuracy: 1.0000 - val_loss: 0.0528 - val_accuracy: 1.0000\n",
            "Epoch 80/80\n",
            "12/12 [==============================] - 11s 940ms/step - loss: 0.0010 - accuracy: 1.0000 - val_loss: 9.8698e-05 - val_accuracy: 1.0000\n"
          ],
          "name": "stdout"
        }
      ]
    },
    {
      "cell_type": "code",
      "metadata": {
        "id": "hvSpmv2Yw0jQ",
        "colab_type": "code",
        "colab": {}
      },
      "source": [
        "model.save(\"/content/drive/My Drive/Colab Notebooks/caltech101-270-180.h5\")"
      ],
      "execution_count": 39,
      "outputs": []
    },
    {
      "cell_type": "code",
      "metadata": {
        "id": "0NuGpg0u2U7V",
        "colab_type": "code",
        "colab": {
          "base_uri": "https://localhost:8080/",
          "height": 265
        },
        "outputId": "2662e562-7db3-4476-e240-53056f0b1c4c"
      },
      "source": [
        "#from matplotlib import pyplot as plt\n",
        "plt.plot(output.history['accuracy'])\n",
        "plt.plot(output.history['val_accuracy'])\n",
        "plt.show()\n"
      ],
      "execution_count": 51,
      "outputs": [
        {
          "output_type": "display_data",
          "data": {
            "image/png": "[encoded data removed]",
            "text/plain": [
              "<Figure size 432x288 with 1 Axes>"
            ]
          },
          "metadata": {
            "tags": [],
            "needs_background": "light"
          }
        }
      ]
    },
    {
      "cell_type": "code",
      "metadata": {
        "id": "COOLXkqkSI1F",
        "colab_type": "code",
        "colab": {
          "base_uri": "https://localhost:8080/",
          "height": 265
        },
        "outputId": "19178675-700b-43d7-87be-fad2db1efeec"
      },
      "source": [
        "plt.plot(output.history['loss'])\n",
        "plt.plot(output.history['val_loss'])\n",
        "plt.show()\n"
      ],
      "execution_count": 52,
      "outputs": [
        {
          "output_type": "display_data",
          "data": {
            "image/png": "[encoded data removed]",
            "text/plain": [
              "<Figure size 432x288 with 1 Axes>"
            ]
          },
          "metadata": {
            "tags": [],
            "needs_background": "light"
          }
        }
      ]
    },
    {
      "cell_type": "code",
      "metadata": {
        "id": "EW_yshcuz4ok",
        "colab_type": "code",
        "colab": {}
      },
      "source": [
        "model.save_weights('c:\\model.h5')"
      ],
      "execution_count": null,
      "outputs": []
    },
    {
      "cell_type": "code",
      "metadata": {
        "id": "P_B477kw5RFv",
        "colab_type": "code",
        "colab": {
          "base_uri": "https://localhost:8080/",
          "height": 34
        },
        "outputId": "1e998541-457e-441d-8910-3908ab96c76d"
      },
      "source": [
        "from skimage import io\n",
        "import os\n",
        "from keras.preprocessing import image"
      ],
      "execution_count": 20,
      "outputs": [
        {
          "output_type": "stream",
          "text": [
            "Using TensorFlow backend.\n"
          ],
          "name": "stderr"
        }
      ]
    },
    {
      "cell_type": "code",
      "metadata": {
        "id": "k_smfBF2sWEd",
        "colab_type": "code",
        "colab": {}
      },
      "source": [
        "\n",
        "import numpy as np"
      ],
      "execution_count": 4,
      "outputs": []
    },
    {
      "cell_type": "code",
      "metadata": {
        "id": "i-CMrtKE3Akx",
        "colab_type": "code",
        "colab": {}
      },
      "source": [
        "datasets_path = '/content/drive/My Drive/Colab Notebooks/Caltech101/test' #Add the path to the unzipped folder\n",
        "\n",
        "def load_images(path,n=0):\n",
        "    X = []\n",
        "    Y=[]\n",
        "    i=-1\n",
        "    labels = []\n",
        "    for label in os.listdir(path):\n",
        "        back_path = os.path.join(path,label)\n",
        "        i = i+1\n",
        "        for filename in os.listdir(back_path):\n",
        "            image_path = os.path.join(back_path,filename)\n",
        "            img = image.load_img(image_path,target_size=(299,299))\n",
        "            img = image.img_to_array(img)\n",
        "            img = img/255\n",
        "            Y.append(img)\n",
        "            labels.append(label)\n",
        "    return Y,labels\n",
        "\n",
        "y,label_data = load_images(datasets_path)\n"
      ],
      "execution_count": 21,
      "outputs": []
    },
    {
      "cell_type": "code",
      "metadata": {
        "id": "d039NMMd8X55",
        "colab_type": "code",
        "colab": {
          "base_uri": "https://localhost:8080/",
          "height": 272
        },
        "outputId": "cce2795c-9c2c-4cc8-ad5f-334ac1381363"
      },
      "source": [
        "set(label_data)"
      ],
      "execution_count": 31,
      "outputs": [
        {
          "output_type": "execute_result",
          "data": {
            "text/plain": [
              "{'Faces',\n",
              " 'Leopards',\n",
              " 'Motorbikes',\n",
              " 'airplanes',\n",
              " 'beaver',\n",
              " 'bonsai',\n",
              " 'car_side',\n",
              " 'euphonium',\n",
              " 'ewer',\n",
              " 'grand_piano',\n",
              " 'ibis',\n",
              " 'kangaroo',\n",
              " 'soccer_ball',\n",
              " 'stegosaurus',\n",
              " 'watch'}"
            ]
          },
          "metadata": {
            "tags": []
          },
          "execution_count": 31
        }
      ]
    },
    {
      "cell_type": "code",
      "metadata": {
        "id": "8jFxZJJysdch",
        "colab_type": "code",
        "colab": {
          "base_uri": "https://localhost:8080/",
          "height": 51
        },
        "outputId": "4741c295-3ed1-4c72-9a10-d9c358b061b0"
      },
      "source": [
        "X_test= np.array(y)\n",
        "#print(len(x_train))\n",
        "#print(x_train.shape)\n",
        "Y_test = np.array(label_data)\n",
        "print(X_test.shape)\n",
        "print(Y_test.shape)"
      ],
      "execution_count": 23,
      "outputs": [
        {
          "output_type": "stream",
          "text": [
            "(2856, 299, 299, 3)\n",
            "(2856,)\n"
          ],
          "name": "stdout"
        }
      ]
    },
    {
      "cell_type": "code",
      "metadata": {
        "id": "p6_-shUguXzG",
        "colab_type": "code",
        "colab": {}
      },
      "source": [
        "from keras.utils.np_utils import to_categorical\n",
        "from sklearn.preprocessing import LabelBinarizer"
      ],
      "execution_count": 24,
      "outputs": []
    },
    {
      "cell_type": "code",
      "metadata": {
        "id": "Sg-zyXrxtOvr",
        "colab_type": "code",
        "colab": {}
      },
      "source": [
        "lb = LabelBinarizer()\n",
        "labels = lb.fit_transform(label_data)"
      ],
      "execution_count": 25,
      "outputs": []
    },
    {
      "cell_type": "code",
      "metadata": {
        "id": "Mwuhg6qkv4Dh",
        "colab_type": "code",
        "colab": {}
      },
      "source": [
        "print(labels)"
      ],
      "execution_count": null,
      "outputs": []
    },
    {
      "cell_type": "code",
      "metadata": {
        "id": "Uay6pfFJrwqt",
        "colab_type": "code",
        "colab": {}
      },
      "source": [
        "from tensorflow import keras\n",
        "model = keras.models.load_model('/content/drive/My Drive/Colab Notebooks/caltech101-315-135.h5')\n"
      ],
      "execution_count": null,
      "outputs": []
    },
    {
      "cell_type": "code",
      "metadata": {
        "id": "WyBnY_d929R9",
        "colab_type": "code",
        "colab": {
          "base_uri": "https://localhost:8080/",
          "height": 51
        },
        "outputId": "9f44d558-68c2-457a-b651-f1c261200444"
      },
      "source": [
        "model.evaluate(X_test, labels)"
      ],
      "execution_count": 53,
      "outputs": [
        {
          "output_type": "stream",
          "text": [
            "90/90 [==============================] - 85s 946ms/step - loss: 0.0137 - accuracy: 0.9961\n"
          ],
          "name": "stdout"
        },
        {
          "output_type": "execute_result",
          "data": {
            "text/plain": [
              "[0.013685429468750954, 0.9961484670639038]"
            ]
          },
          "metadata": {
            "tags": []
          },
          "execution_count": 53
        }
      ]
    },
    {
      "cell_type": "code",
      "metadata": {
        "colab_type": "code",
        "id": "h2xe4SZ2oXwr",
        "colab": {
          "base_uri": "https://localhost:8080/",
          "height": 34
        },
        "outputId": "16465cd5-917e-4d28-c443-229a1bbafcd4"
      },
      "source": [
        "  dir= '/content/drive/My Drive/Colab Notebooks/Caltech101/test'\n"
      ],
      "execution_count": null,
      "outputs": [
        {
          "output_type": "stream",
          "text": [
            "Found 565 images belonging to 15 classes.\n"
          ],
          "name": "stdout"
        }
      ]
    },
    {
      "cell_type": "code",
      "metadata": {
        "id": "Zdb6T00wZEu7",
        "colab_type": "code",
        "colab": {
          "base_uri": "https://localhost:8080/",
          "height": 85
        },
        "outputId": "6550f8a5-ffa6-4360-90e7-4521fd571719"
      },
      "source": [
        "import cv2 as cv\n",
        "img = cv.imread('/content/drive/My Drive/Colab Notebooks/Caltech101/test/bonsai/image_0005.jpg')\n",
        "img = cv.resize(img, (299, 299))\n",
        "img = cv.cvtColor(img, cv.COLOR_BGR2RGB)\n",
        "\n",
        "img = img / 255.0\n",
        "\n",
        "img = img.reshape(1, 299, 299, 3)\n",
        "\n",
        "y_pred = model.predict(img)\n",
        "max(y_pred)\n",
        "print(y_pred)\n",
        "print(np.argmax(y_pred))\n"
      ],
      "execution_count": 54,
      "outputs": [
        {
          "output_type": "stream",
          "text": [
            "[[1.2315262e-05 1.9789813e-05 4.8904158e-06 5.4176358e-05 1.7832284e-04\n",
            "  9.9936706e-01 1.5027475e-06 4.4323274e-06 1.4429080e-05 1.6609734e-05\n",
            "  7.3992836e-05 1.6538652e-05 2.4789708e-06 3.7983344e-05 1.9545019e-04]]\n",
            "5\n"
          ],
          "name": "stdout"
        }
      ]
    },
    {
      "cell_type": "code",
      "metadata": {
        "id": "zXFNhOLgJdIe",
        "colab_type": "code",
        "colab": {
          "base_uri": "https://localhost:8080/",
          "height": 248
        },
        "outputId": "d21156be-a760-44ed-e20c-5c5bd1a83bb0"
      },
      "source": [
        "import cv2\n",
        "import numpy as np\n",
        "import matplotlib.pyplot as plt\n",
        "\n",
        "img1 = cv2.imread('/content/drive/My Drive/Colab Notebooks/Caltech101/test/airplanes/image_0003.jpg') \n",
        "\n",
        "%matplotlib inline\n",
        "\n",
        "#reading image\n",
        "gray1 = cv2.cvtColor(img1, cv2.COLOR_BGR2GRAY)\n",
        "\n",
        "#keypoints\n",
        "sift = cv2.xfeatures2d.SIFT_create()\n",
        "keypoints_1, descriptors_1 = sift.detectAndCompute(img1,None)\n",
        "\n",
        "img_1 = cv2.drawKeypoints(gray1,keypoints_1,img1)\n",
        "plt.imshow(img_1)"
      ],
      "execution_count": 34,
      "outputs": [
        {
          "output_type": "error",
          "ename": "error",
          "evalue": "ignored",
          "traceback": [
            "\u001b[0;31m---------------------------------------------------------------------------\u001b[0m",
            "\u001b[0;31merror\u001b[0m                                     Traceback (most recent call last)",
            "\u001b[0;32m<ipython-input-34-01901d2aac49>\u001b[0m in \u001b[0;36m<module>\u001b[0;34m()\u001b[0m\n\u001b[1;32m     11\u001b[0m \u001b[0;34m\u001b[0m\u001b[0m\n\u001b[1;32m     12\u001b[0m \u001b[0;31m#keypoints\u001b[0m\u001b[0;34m\u001b[0m\u001b[0;34m\u001b[0m\u001b[0;34m\u001b[0m\u001b[0m\n\u001b[0;32m---> 13\u001b[0;31m \u001b[0msift\u001b[0m \u001b[0;34m=\u001b[0m \u001b[0mcv2\u001b[0m\u001b[0;34m.\u001b[0m\u001b[0mxfeatures2d\u001b[0m\u001b[0;34m.\u001b[0m\u001b[0mSIFT_create\u001b[0m\u001b[0;34m(\u001b[0m\u001b[0;34m)\u001b[0m\u001b[0;34m\u001b[0m\u001b[0;34m\u001b[0m\u001b[0m\n\u001b[0m\u001b[1;32m     14\u001b[0m \u001b[0mkeypoints_1\u001b[0m\u001b[0;34m,\u001b[0m \u001b[0mdescriptors_1\u001b[0m \u001b[0;34m=\u001b[0m \u001b[0msift\u001b[0m\u001b[0;34m.\u001b[0m\u001b[0mdetectAndCompute\u001b[0m\u001b[0;34m(\u001b[0m\u001b[0mimg1\u001b[0m\u001b[0;34m,\u001b[0m\u001b[0;32mNone\u001b[0m\u001b[0;34m)\u001b[0m\u001b[0;34m\u001b[0m\u001b[0;34m\u001b[0m\u001b[0m\n\u001b[1;32m     15\u001b[0m \u001b[0;34m\u001b[0m\u001b[0m\n",
            "\u001b[0;31merror\u001b[0m: OpenCV(4.1.2) /io/opencv_contrib/modules/xfeatures2d/src/sift.cpp:1207: error: (-213:The function/feature is not implemented) This algorithm is patented and is excluded in this configuration; Set OPENCV_ENABLE_NONFREE CMake option and rebuild the library in function 'create'\n"
          ]
        }
      ]
    },
    {
      "cell_type": "code",
      "metadata": {
        "id": "cFkrI3s97mTo",
        "colab_type": "code",
        "colab": {
          "base_uri": "https://localhost:8080/",
          "height": 85
        },
        "outputId": "56fe2f8f-e715-440c-f5e8-3cac5b0eec56"
      },
      "source": [
        "max(y_pred)"
      ],
      "execution_count": 29,
      "outputs": [
        {
          "output_type": "execute_result",
          "data": {
            "text/plain": [
              "array([5.44549082e-04, 7.70634506e-06, 3.30653493e-05, 9.90321100e-01,\n",
              "       1.01571226e-04, 3.67306231e-04, 3.74149793e-04, 1.81712428e-04,\n",
              "       2.66364914e-05, 3.28015885e-03, 3.67362821e-03, 4.92222549e-04,\n",
              "       4.36086702e-06, 5.56197228e-05, 5.36286621e-04], dtype=float32)"
            ]
          },
          "metadata": {
            "tags": []
          },
          "execution_count": 29
        }
      ]
    },
    {
      "cell_type": "code",
      "metadata": {
        "id": "wXlr2opHnwAL",
        "colab_type": "code",
        "colab": {
          "base_uri": "https://localhost:8080/",
          "height": 575
        },
        "outputId": "7144599c-cd3a-41b2-cd1d-883c3ccf4978"
      },
      "source": [
        "f, axarr = plt.subplots(1, 5)\n",
        "axarr[1].imshow(img)"
      ],
      "execution_count": 13,
      "outputs": [
        {
          "output_type": "error",
          "ename": "TypeError",
          "evalue": "ignored",
          "traceback": [
            "\u001b[0;31m---------------------------------------------------------------------------\u001b[0m",
            "\u001b[0;31mTypeError\u001b[0m                                 Traceback (most recent call last)",
            "\u001b[0;32m<ipython-input-13-24d4c3f7df1c>\u001b[0m in \u001b[0;36m<module>\u001b[0;34m()\u001b[0m\n\u001b[1;32m      1\u001b[0m \u001b[0mf\u001b[0m\u001b[0;34m,\u001b[0m \u001b[0maxarr\u001b[0m \u001b[0;34m=\u001b[0m \u001b[0mplt\u001b[0m\u001b[0;34m.\u001b[0m\u001b[0msubplots\u001b[0m\u001b[0;34m(\u001b[0m\u001b[0;36m1\u001b[0m\u001b[0;34m,\u001b[0m \u001b[0;36m5\u001b[0m\u001b[0;34m)\u001b[0m\u001b[0;34m\u001b[0m\u001b[0;34m\u001b[0m\u001b[0m\n\u001b[0;32m----> 2\u001b[0;31m \u001b[0maxarr\u001b[0m\u001b[0;34m[\u001b[0m\u001b[0;36m1\u001b[0m\u001b[0;34m]\u001b[0m\u001b[0;34m.\u001b[0m\u001b[0mimshow\u001b[0m\u001b[0;34m(\u001b[0m\u001b[0mimg\u001b[0m\u001b[0;34m)\u001b[0m\u001b[0;34m\u001b[0m\u001b[0;34m\u001b[0m\u001b[0m\n\u001b[0m",
            "\u001b[0;32m/usr/local/lib/python3.6/dist-packages/matplotlib/__init__.py\u001b[0m in \u001b[0;36minner\u001b[0;34m(ax, data, *args, **kwargs)\u001b[0m\n\u001b[1;32m   1563\u001b[0m     \u001b[0;32mdef\u001b[0m \u001b[0minner\u001b[0m\u001b[0;34m(\u001b[0m\u001b[0max\u001b[0m\u001b[0;34m,\u001b[0m \u001b[0;34m*\u001b[0m\u001b[0margs\u001b[0m\u001b[0;34m,\u001b[0m \u001b[0mdata\u001b[0m\u001b[0;34m=\u001b[0m\u001b[0;32mNone\u001b[0m\u001b[0;34m,\u001b[0m \u001b[0;34m**\u001b[0m\u001b[0mkwargs\u001b[0m\u001b[0;34m)\u001b[0m\u001b[0;34m:\u001b[0m\u001b[0;34m\u001b[0m\u001b[0;34m\u001b[0m\u001b[0m\n\u001b[1;32m   1564\u001b[0m         \u001b[0;32mif\u001b[0m \u001b[0mdata\u001b[0m \u001b[0;32mis\u001b[0m \u001b[0;32mNone\u001b[0m\u001b[0;34m:\u001b[0m\u001b[0;34m\u001b[0m\u001b[0;34m\u001b[0m\u001b[0m\n\u001b[0;32m-> 1565\u001b[0;31m             \u001b[0;32mreturn\u001b[0m \u001b[0mfunc\u001b[0m\u001b[0;34m(\u001b[0m\u001b[0max\u001b[0m\u001b[0;34m,\u001b[0m \u001b[0;34m*\u001b[0m\u001b[0mmap\u001b[0m\u001b[0;34m(\u001b[0m\u001b[0msanitize_sequence\u001b[0m\u001b[0;34m,\u001b[0m \u001b[0margs\u001b[0m\u001b[0;34m)\u001b[0m\u001b[0;34m,\u001b[0m \u001b[0;34m**\u001b[0m\u001b[0mkwargs\u001b[0m\u001b[0;34m)\u001b[0m\u001b[0;34m\u001b[0m\u001b[0;34m\u001b[0m\u001b[0m\n\u001b[0m\u001b[1;32m   1566\u001b[0m \u001b[0;34m\u001b[0m\u001b[0m\n\u001b[1;32m   1567\u001b[0m         \u001b[0mbound\u001b[0m \u001b[0;34m=\u001b[0m \u001b[0mnew_sig\u001b[0m\u001b[0;34m.\u001b[0m\u001b[0mbind\u001b[0m\u001b[0;34m(\u001b[0m\u001b[0max\u001b[0m\u001b[0;34m,\u001b[0m \u001b[0;34m*\u001b[0m\u001b[0margs\u001b[0m\u001b[0;34m,\u001b[0m \u001b[0;34m**\u001b[0m\u001b[0mkwargs\u001b[0m\u001b[0;34m)\u001b[0m\u001b[0;34m\u001b[0m\u001b[0;34m\u001b[0m\u001b[0m\n",
            "\u001b[0;32m/usr/local/lib/python3.6/dist-packages/matplotlib/cbook/deprecation.py\u001b[0m in \u001b[0;36mwrapper\u001b[0;34m(*args, **kwargs)\u001b[0m\n\u001b[1;32m    356\u001b[0m                 \u001b[0;34mf\"%(removal)s.  If any parameter follows {name!r}, they \"\u001b[0m\u001b[0;34m\u001b[0m\u001b[0;34m\u001b[0m\u001b[0m\n\u001b[1;32m    357\u001b[0m                 f\"should be pass as keyword, not positionally.\")\n\u001b[0;32m--> 358\u001b[0;31m         \u001b[0;32mreturn\u001b[0m \u001b[0mfunc\u001b[0m\u001b[0;34m(\u001b[0m\u001b[0;34m*\u001b[0m\u001b[0margs\u001b[0m\u001b[0;34m,\u001b[0m \u001b[0;34m**\u001b[0m\u001b[0mkwargs\u001b[0m\u001b[0;34m)\u001b[0m\u001b[0;34m\u001b[0m\u001b[0;34m\u001b[0m\u001b[0m\n\u001b[0m\u001b[1;32m    359\u001b[0m \u001b[0;34m\u001b[0m\u001b[0m\n\u001b[1;32m    360\u001b[0m     \u001b[0;32mreturn\u001b[0m \u001b[0mwrapper\u001b[0m\u001b[0;34m\u001b[0m\u001b[0;34m\u001b[0m\u001b[0m\n",
            "\u001b[0;32m/usr/local/lib/python3.6/dist-packages/matplotlib/cbook/deprecation.py\u001b[0m in \u001b[0;36mwrapper\u001b[0;34m(*args, **kwargs)\u001b[0m\n\u001b[1;32m    356\u001b[0m                 \u001b[0;34mf\"%(removal)s.  If any parameter follows {name!r}, they \"\u001b[0m\u001b[0;34m\u001b[0m\u001b[0;34m\u001b[0m\u001b[0m\n\u001b[1;32m    357\u001b[0m                 f\"should be pass as keyword, not positionally.\")\n\u001b[0;32m--> 358\u001b[0;31m         \u001b[0;32mreturn\u001b[0m \u001b[0mfunc\u001b[0m\u001b[0;34m(\u001b[0m\u001b[0;34m*\u001b[0m\u001b[0margs\u001b[0m\u001b[0;34m,\u001b[0m \u001b[0;34m**\u001b[0m\u001b[0mkwargs\u001b[0m\u001b[0;34m)\u001b[0m\u001b[0;34m\u001b[0m\u001b[0;34m\u001b[0m\u001b[0m\n\u001b[0m\u001b[1;32m    359\u001b[0m \u001b[0;34m\u001b[0m\u001b[0m\n\u001b[1;32m    360\u001b[0m     \u001b[0;32mreturn\u001b[0m \u001b[0mwrapper\u001b[0m\u001b[0;34m\u001b[0m\u001b[0;34m\u001b[0m\u001b[0m\n",
            "\u001b[0;32m/usr/local/lib/python3.6/dist-packages/matplotlib/axes/_axes.py\u001b[0m in \u001b[0;36mimshow\u001b[0;34m(self, X, cmap, norm, aspect, interpolation, alpha, vmin, vmax, origin, extent, shape, filternorm, filterrad, imlim, resample, url, **kwargs)\u001b[0m\n\u001b[1;32m   5624\u001b[0m                               resample=resample, **kwargs)\n\u001b[1;32m   5625\u001b[0m \u001b[0;34m\u001b[0m\u001b[0m\n\u001b[0;32m-> 5626\u001b[0;31m         \u001b[0mim\u001b[0m\u001b[0;34m.\u001b[0m\u001b[0mset_data\u001b[0m\u001b[0;34m(\u001b[0m\u001b[0mX\u001b[0m\u001b[0;34m)\u001b[0m\u001b[0;34m\u001b[0m\u001b[0;34m\u001b[0m\u001b[0m\n\u001b[0m\u001b[1;32m   5627\u001b[0m         \u001b[0mim\u001b[0m\u001b[0;34m.\u001b[0m\u001b[0mset_alpha\u001b[0m\u001b[0;34m(\u001b[0m\u001b[0malpha\u001b[0m\u001b[0;34m)\u001b[0m\u001b[0;34m\u001b[0m\u001b[0;34m\u001b[0m\u001b[0m\n\u001b[1;32m   5628\u001b[0m         \u001b[0;32mif\u001b[0m \u001b[0mim\u001b[0m\u001b[0;34m.\u001b[0m\u001b[0mget_clip_path\u001b[0m\u001b[0;34m(\u001b[0m\u001b[0;34m)\u001b[0m \u001b[0;32mis\u001b[0m \u001b[0;32mNone\u001b[0m\u001b[0;34m:\u001b[0m\u001b[0;34m\u001b[0m\u001b[0;34m\u001b[0m\u001b[0m\n",
            "\u001b[0;32m/usr/local/lib/python3.6/dist-packages/matplotlib/image.py\u001b[0m in \u001b[0;36mset_data\u001b[0;34m(self, A)\u001b[0m\n\u001b[1;32m    697\u001b[0m                 or self._A.ndim == 3 and self._A.shape[-1] in [3, 4]):\n\u001b[1;32m    698\u001b[0m             raise TypeError(\"Invalid shape {} for image data\"\n\u001b[0;32m--> 699\u001b[0;31m                             .format(self._A.shape))\n\u001b[0m\u001b[1;32m    700\u001b[0m \u001b[0;34m\u001b[0m\u001b[0m\n\u001b[1;32m    701\u001b[0m         \u001b[0;32mif\u001b[0m \u001b[0mself\u001b[0m\u001b[0;34m.\u001b[0m\u001b[0m_A\u001b[0m\u001b[0;34m.\u001b[0m\u001b[0mndim\u001b[0m \u001b[0;34m==\u001b[0m \u001b[0;36m3\u001b[0m\u001b[0;34m:\u001b[0m\u001b[0;34m\u001b[0m\u001b[0;34m\u001b[0m\u001b[0m\n",
            "\u001b[0;31mTypeError\u001b[0m: Invalid shape (1, 299, 299, 3) for image data"
          ]
        },
        {
          "output_type": "display_data",
          "data": {
            "image/png": "[encoded data removed]",
            "text/plain": [
              "<Figure size 432x288 with 5 Axes>"
            ]
          },
          "metadata": {
            "tags": [],
            "needs_background": "light"
          }
        }
      ]
    }
  ]
}