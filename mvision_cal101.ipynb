{
  "nbformat": 4,
  "nbformat_minor": 0,
  "metadata": {
    "colab": {
      "name": "Untitled2.ipynb",
      "provenance": [],
      "collapsed_sections": [],
      "authorship_tag": "ABX9TyMAZFoSCJ7o7GT5RMynQZj3",
      "include_colab_link": true
    },
    "kernelspec": {
      "name": "python3",
      "display_name": "Python 3"
    }
  },
  "cells": [
    {
      "cell_type": "markdown",
      "metadata": {
        "id": "view-in-github",
        "colab_type": "text"
      },
      "source": [
        "<a href=\"https://colab.research.google.com/github/hashemi124/ANN_edu_deep/blob/master/mvision_cal101.ipynb\" target=\"_parent\"><img src=\"https://colab.research.google.com/assets/colab-badge.svg\" alt=\"Open In Colab\"/></a>"
      ]
    },
    {
      "cell_type": "code",
      "metadata": {
        "id": "d7QriZNCGwci",
        "colab_type": "code",
        "colab": {}
      },
      "source": [
        "\n",
        "import numpy as np\n",
        "import pandas as pd\n",
        "import matplotlib.pyplot as plt\n",
        "%matplotlib inline\n",
        "#from keras.datasets import mnist\n",
        "from keras import *\n",
        "from keras.models import Sequential\n",
        "from keras.layers import Dense, Dropout, Activation, Flatten\n",
        "from keras.optimizers import Adam,SGD\n",
        "from keras.layers.normalization import BatchNormalization\n",
        "from keras.utils import np_utils\n",
        "from keras.layers import Conv2D, MaxPooling2D, ZeroPadding2D, GlobalAveragePooling2D\n",
        "from keras.layers.advanced_activations import LeakyReLU \n",
        "from keras.preprocessing.image import ImageDataGenerator\n",
        "from keras.preprocessing import image\n",
        "from sklearn.model_selection import train_test_split\n",
        "import glob\n",
        "from skimage import io\n",
        "import os\n",
        "import scipy.misc\n",
        "\n",
        "from keras import regularizers\n",
        "import csv\n",
        "from keras.applications.inception_v3 import InceptionV3, preprocess_input"
      ],
      "execution_count": 9,
      "outputs": []
    },
    {
      "cell_type": "code",
      "metadata": {
        "id": "vQA2g8z6Js8j",
        "colab_type": "code",
        "colab": {}
      },
      "source": [
        ""
      ],
      "execution_count": null,
      "outputs": []
    },
    {
      "cell_type": "code",
      "metadata": {
        "id": "luK5-l7ZFTom",
        "colab_type": "code",
        "colab": {
          "base_uri": "https://localhost:8080/",
          "height": 35
        },
        "outputId": "cb22c68e-5e48-46fa-f630-c23af6c303a5"
      },
      "source": [
        "from google.colab import drive\n",
        "drive.mount('/content/drive')"
      ],
      "execution_count": 10,
      "outputs": [
        {
          "output_type": "stream",
          "text": [
            "Drive already mounted at /content/drive; to attempt to forcibly remount, call drive.mount(\"/content/drive\", force_remount=True).\n"
          ],
          "name": "stdout"
        }
      ]
    },
    {
      "cell_type": "code",
      "metadata": {
        "id": "W2jiVREk_1cO",
        "colab_type": "code",
        "colab": {
          "base_uri": "https://localhost:8080/",
          "height": 35
        },
        "outputId": "5aa31cb4-3e19-4c9f-ee96-f37a595ecb08"
      },
      "source": [
        "datasets_path = '/content/drive/My Drive/Colab Notebooks/Caltech101/train' #Add the path to the unzipped folder\n",
        "\n",
        "def load_images(path,n=0):\n",
        "    X = []\n",
        "    Y=[]\n",
        "    i=-1\n",
        "    labels = []\n",
        "    for label in os.listdir(path):\n",
        "        back_path = os.path.join(path,label)\n",
        "        labels.append(label)\n",
        "        i = i+1\n",
        "        for filename in os.listdir(back_path):\n",
        "            image_path = os.path.join(back_path,filename)\n",
        "            img = image.load_img(image_path,target_size=(224,224))\n",
        "            img = image.img_to_array(img)\n",
        "            #Y.append(image)\n",
        "            #image = imresize(image,[128,128,3])\n",
        "            #image = imresize(imread(image_path), [128,128, 3])\n",
        "            #image = image.astype('float32')\n",
        "            img[:,:,0] -= 123.68\n",
        "            img[:,:,1] -= 116.78\n",
        "            img[:,:,2] -= 103.94\n",
        "            #image = image/255\n",
        "            #image = 1-image\n",
        "            Y.append(i)\n",
        "            X.append(img)\n",
        "            #X.append(image.img_to_array(img))\n",
        "            #X.append(image)\n",
        "    return X,Y,labels\n",
        "\n",
        "x_train,y,label_data = load_images(datasets_path)\n",
        "X = np.array(x_train)\n",
        "#print(len(x_train))\n",
        "#print(x_train.shape)\n",
        "Y = np.array(y)\n",
        "print(X.shape)"
      ],
      "execution_count": 11,
      "outputs": [
        {
          "output_type": "stream",
          "text": [
            "(450, 224, 224, 3)\n"
          ],
          "name": "stdout"
        }
      ]
    },
    {
      "cell_type": "code",
      "metadata": {
        "id": "-TlWfJYSCWQ9",
        "colab_type": "code",
        "colab": {
          "base_uri": "https://localhost:8080/",
          "height": 35
        },
        "outputId": "ae2a24ed-a30f-4732-a879-efd350f707b9"
      },
      "source": [
        "datasets_path = '/content/drive/My Drive/Colab Notebooks/Caltech101/test' #Add the path to the unzipped folder\n",
        "\n",
        "def load_images(path,n=0):\n",
        "    X = []\n",
        "    Y=[]\n",
        "    i=-1\n",
        "    labels = []\n",
        "    for label in os.listdir(path):\n",
        "        back_path = os.path.join(path,label)\n",
        "        labels.append(label)\n",
        "        i = i+1\n",
        "        for filename in os.listdir(back_path):\n",
        "            image_path = os.path.join(back_path,filename)\n",
        "            img = image.load_img(image_path,target_size=(224,224))\n",
        "            img = image.img_to_array(img)\n",
        "            #Y.append(image)\n",
        "            #image = imresize(image,[128,128,3])\n",
        "            #image = imresize(imread(image_path), [128,128, 3])\n",
        "            #image = image.astype('float32')\n",
        "            img[:,:,0] -= 123.68\n",
        "            img[:,:,1] -= 116.78\n",
        "            img[:,:,2] -= 103.94\n",
        "            #image = image/255\n",
        "            #image = 1-image\n",
        "            Y.append(i)\n",
        "            X.append(img)\n",
        "            #X.append(image.img_to_array(img))\n",
        "            #X.append(image)\n",
        "    return X,Y,labels\n",
        "\n",
        "x,y,label_data = load_images(datasets_path)\n",
        "X_test= np.array(x)\n",
        "#print(len(x_train))\n",
        "#print(x_train.shape)\n",
        "Y_test = np.array(y)\n",
        "print(X_test.shape)"
      ],
      "execution_count": 14,
      "outputs": [
        {
          "output_type": "stream",
          "text": [
            "(2856, 224, 224, 3)\n"
          ],
          "name": "stdout"
        }
      ]
    },
    {
      "cell_type": "code",
      "metadata": {
        "id": "jiQA7S02LC4c",
        "colab_type": "code",
        "colab": {}
      },
      "source": [
        "from keras.utils.np_utils import to_categorical   "
      ],
      "execution_count": 18,
      "outputs": []
    },
    {
      "cell_type": "code",
      "metadata": {
        "id": "7RIM4Tr7KWdX",
        "colab_type": "code",
        "colab": {}
      },
      "source": [
        "y_train = to_categorical(Y, num_classes=15)\n",
        "y_test = to_categorical(Y_test, num_classes=15)"
      ],
      "execution_count": 27,
      "outputs": []
    },
    {
      "cell_type": "code",
      "metadata": {
        "id": "oGdG5TwELFb7",
        "colab_type": "code",
        "colab": {}
      },
      "source": [
        "X_train = np.reshape(X,(450,150528))\n",
        "X_test = np.reshape(X_test,(2856,150528))\n",
        "X_train = X_train.astype('float32')\n",
        "X_test = X_test.astype('float32')\n",
        "\n",
        "# Normalization of pixel values (to [0-1] range)\n",
        "\n",
        "X_train /= 255\n",
        "X_test /= 255"
      ],
      "execution_count": 25,
      "outputs": []
    },
    {
      "cell_type": "code",
      "metadata": {
        "id": "3DZAT97tOXT6",
        "colab_type": "code",
        "colab": {
          "base_uri": "https://localhost:8080/",
          "height": 127
        },
        "outputId": "d06a8f07-1490-4da9-cc4d-b17d8a9dd72c"
      },
      "source": [
        "print(\"Shape of training data:\")\n",
        "print(X_train.shape)\n",
        "print(y_train.shape)\n",
        "print(\"Shape of test data:\")\n",
        "print(X_test.shape)\n",
        "print(y_test.shape)"
      ],
      "execution_count": 28,
      "outputs": [
        {
          "output_type": "stream",
          "text": [
            "Shape of training data:\n",
            "(450, 150528)\n",
            "(450, 15)\n",
            "Shape of test data:\n",
            "(2856, 150528)\n",
            "(2856, 15)\n"
          ],
          "name": "stdout"
        }
      ]
    },
    {
      "cell_type": "code",
      "metadata": {
        "id": "OFpMA5y1O0QV",
        "colab_type": "code",
        "colab": {}
      },
      "source": [
        "from keras.layers import Dense, Flatten\n",
        "from keras.layers import Conv2D, MaxPooling2D\n",
        "\n",
        "model = Sequential()\n",
        "\n",
        "model.add(Conv2D(32, (3, 3), activation='relu', input_shape=(32, 32, 3)))\n",
        "model.add(Conv2D(32, (3, 3), activation='relu'))\n",
        "model.add(MaxPooling2D(pool_size=(2, 2)))\n",
        "\n",
        "model.add(Flatten())\n",
        "model.add(Dense(256, activation='relu'))\n",
        "model.add(Dense(10, activation='softmax'))\n",
        "\n",
        "sgd = SGD(lr=0.01, decay=1e-6, momentum=0.9, nesterov=True)\n",
        "model.compile(loss='categorical_crossentropy', metrics=['accuracy'], optimizer=sgd)"
      ],
      "execution_count": 29,
      "outputs": []
    }
  ]
}