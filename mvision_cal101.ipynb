{
  "nbformat": 4,
  "nbformat_minor": 0,
  "metadata": {
    "colab": {
      "name": "Untitled2.ipynb",
      "provenance": [],
      "collapsed_sections": [],
      "include_colab_link": true
    },
    "kernelspec": {
      "name": "python3",
      "display_name": "Python 3"
    }
  },
  "cells": [
    {
      "cell_type": "markdown",
      "metadata": {
        "id": "view-in-github",
        "colab_type": "text"
      },
      "source": [
        "<a href=\"https://colab.research.google.com/github/hashemi124/ANN_edu_deep/blob/master/mvision_cal101.ipynb\" target=\"_parent\"><img src=\"https://colab.research.google.com/assets/colab-badge.svg\" alt=\"Open In Colab\"/></a>"
      ]
    },
    {
      "cell_type": "code",
      "metadata": {
        "id": "d7QriZNCGwci",
        "colab_type": "code",
        "colab": {
          "base_uri": "https://localhost:8080/",
          "height": 34
        },
        "outputId": "b8bb263c-b555-469e-d471-bf4654477015"
      },
      "source": [
        "\n",
        "import numpy as np\n",
        "import pandas as pd\n",
        "import matplotlib.pyplot as plt\n",
        "%matplotlib inline\n",
        "#from keras.datasets import mnist\n",
        "from keras import *\n",
        "from keras.models import Sequential\n",
        "from keras.layers import Dense, Dropout, Activation, Flatten\n",
        "from keras.optimizers import Adam,SGD\n",
        "from keras.layers.normalization import BatchNormalization\n",
        "from keras.utils import np_utils\n",
        "from keras.layers import Conv2D, MaxPooling2D, ZeroPadding2D, GlobalAveragePooling2D\n",
        "from keras.layers.advanced_activations import LeakyReLU \n",
        "from keras.preprocessing.image import ImageDataGenerator\n",
        "from keras.preprocessing import image\n",
        "from sklearn.model_selection import train_test_split\n",
        "import glob\n",
        "from skimage import io\n",
        "import os\n",
        "import scipy.misc\n",
        "\n",
        "from keras import regularizers\n",
        "import csv\n",
        "from keras.applications.inception_v3 import InceptionV3, preprocess_input"
      ],
      "execution_count": 1,
      "outputs": [
        {
          "output_type": "stream",
          "text": [
            "Using TensorFlow backend.\n"
          ],
          "name": "stderr"
        }
      ]
    },
    {
      "cell_type": "code",
      "metadata": {
        "id": "vQA2g8z6Js8j",
        "colab_type": "code",
        "colab": {}
      },
      "source": [
        ""
      ],
      "execution_count": null,
      "outputs": []
    },
    {
      "cell_type": "code",
      "metadata": {
        "id": "luK5-l7ZFTom",
        "colab_type": "code",
        "colab": {
          "base_uri": "https://localhost:8080/",
          "height": 122
        },
        "outputId": "b70ed4d6-560e-4b24-c467-98ec77c4df12"
      },
      "source": [
        "from google.colab import drive\n",
        "drive.mount('/content/drive')"
      ],
      "execution_count": 2,
      "outputs": [
        {
          "output_type": "stream",
          "text": [
            "Go to this URL in a browser: https://accounts.google.com/o/oauth2/auth?client_id=947318989803-6bn6qk8qdgf4n4g3pfee6491hc0brc4i.apps.googleusercontent.com&redirect_uri=urn%3aietf%3awg%3aoauth%3a2.0%3aoob&response_type=code&scope=email%20https%3a%2f%2fwww.googleapis.com%2fauth%2fdocs.test%20https%3a%2f%2fwww.googleapis.com%2fauth%2fdrive%20https%3a%2f%2fwww.googleapis.com%2fauth%2fdrive.photos.readonly%20https%3a%2f%2fwww.googleapis.com%2fauth%2fpeopleapi.readonly\n",
            "\n",
            "Enter your authorization code:\n",
            "··········\n",
            "Mounted at /content/drive\n"
          ],
          "name": "stdout"
        }
      ]
    },
    {
      "cell_type": "code",
      "metadata": {
        "id": "W2jiVREk_1cO",
        "colab_type": "code",
        "colab": {
          "base_uri": "https://localhost:8080/",
          "height": 34
        },
        "outputId": "43b6ce60-9bce-4f1e-ad8a-156031d725fa"
      },
      "source": [
        "datasets_path = '/content/drive/My Drive/Colab Notebooks/Caltech101/train' #Add the path to the unzipped folder\n",
        "\n",
        "def load_images(path,n=0):\n",
        "    X = []\n",
        "    Y=[]\n",
        "    i=-1\n",
        "    labels = []\n",
        "    for label in os.listdir(path):\n",
        "        back_path = os.path.join(path,label)\n",
        "        labels.append(label)\n",
        "        i = i+1\n",
        "        for filename in os.listdir(back_path):\n",
        "            image_path = os.path.join(back_path,filename)\n",
        "            img = image.load_img(image_path,target_size=(224,224))\n",
        "            img = image.img_to_array(img)\n",
        "            #Y.append(image)\n",
        "            #image = imresize(image,[128,128,3])\n",
        "            #image = imresize(imread(image_path), [128,128, 3])\n",
        "            #image = image.astype('float32')\n",
        "            img[:,:,0] -= 123.68\n",
        "            img[:,:,1] -= 116.78\n",
        "            img[:,:,2] -= 103.94\n",
        "            #image = image/255\n",
        "            #image = 1-image\n",
        "            Y.append(i)\n",
        "            X.append(img)\n",
        "            #X.append(image.img_to_array(img))\n",
        "            #X.append(image)\n",
        "    return X,Y,labels\n",
        "\n",
        "x_train,y,label_data = load_images(datasets_path)\n",
        "X = np.array(x_train)\n",
        "#print(len(x_train))\n",
        "#print(x_train.shape)\n",
        "Y = np.array(y)\n",
        "print(X.shape)"
      ],
      "execution_count": 3,
      "outputs": [
        {
          "output_type": "stream",
          "text": [
            "(450, 224, 224, 3)\n"
          ],
          "name": "stdout"
        }
      ]
    },
    {
      "cell_type": "code",
      "metadata": {
        "id": "-TlWfJYSCWQ9",
        "colab_type": "code",
        "colab": {
          "base_uri": "https://localhost:8080/",
          "height": 34
        },
        "outputId": "128af65d-6420-4bfd-bb82-54a3c57a3acd"
      },
      "source": [
        "datasets_path = '/content/drive/My Drive/Colab Notebooks/Caltech101/test' #Add the path to the unzipped folder\n",
        "\n",
        "def load_images(path,n=0):\n",
        "    X = []\n",
        "    Y=[]\n",
        "    i=-1\n",
        "    labels = []\n",
        "    for label in os.listdir(path):\n",
        "        back_path = os.path.join(path,label)\n",
        "        labels.append(label)\n",
        "        i = i+1\n",
        "        for filename in os.listdir(back_path):\n",
        "            image_path = os.path.join(back_path,filename)\n",
        "            img = image.load_img(image_path,target_size=(224,224))\n",
        "            img = image.img_to_array(img)\n",
        "            #Y.append(image)\n",
        "            #image = imresize(image,[128,128,3])\n",
        "            #image = imresize(imread(image_path), [128,128, 3])\n",
        "            #image = image.astype('float32')\n",
        "            img[:,:,0] -= 123.68\n",
        "            img[:,:,1] -= 116.78\n",
        "            img[:,:,2] -= 103.94\n",
        "            #image = image/255\n",
        "            #image = 1-image\n",
        "            Y.append(i)\n",
        "            X.append(img)\n",
        "            #X.append(image.img_to_array(img))\n",
        "            #X.append(image)\n",
        "    return X,Y,labels\n",
        "\n",
        "x,y,label_data = load_images(datasets_path)\n",
        "X_test= np.array(x)\n",
        "#print(len(x_train))\n",
        "#print(x_train.shape)\n",
        "Y_test = np.array(y)\n",
        "print(X_test.shape)"
      ],
      "execution_count": 4,
      "outputs": [
        {
          "output_type": "stream",
          "text": [
            "(2856, 224, 224, 3)\n"
          ],
          "name": "stdout"
        }
      ]
    },
    {
      "cell_type": "code",
      "metadata": {
        "id": "VGE_BbldmiR9",
        "colab_type": "code",
        "colab": {
          "base_uri": "https://localhost:8080/",
          "height": 119
        },
        "outputId": "f5af559f-2228-4b88-b775-29bb073e3f81"
      },
      "source": [
        "print(\"Shape of training data:\")\n",
        "print(X.shape)\n",
        "print(Y.shape)\n",
        "print(\"Shape of test data:\")\n",
        "print(X_test.shape)\n",
        "print(Y_test.shape)"
      ],
      "execution_count": 5,
      "outputs": [
        {
          "output_type": "stream",
          "text": [
            "Shape of training data:\n",
            "(450, 224, 224, 3)\n",
            "(450,)\n",
            "Shape of test data:\n",
            "(2856, 224, 224, 3)\n",
            "(2856,)\n"
          ],
          "name": "stdout"
        }
      ]
    },
    {
      "cell_type": "code",
      "metadata": {
        "id": "sxGNSmMkoZgH",
        "colab_type": "code",
        "colab": {
          "base_uri": "https://localhost:8080/",
          "height": 303
        },
        "outputId": "66d8a653-42a9-4874-b288-5c8ecc176aee"
      },
      "source": [
        "import matplotlib.pyplot as plt\n",
        "f, axarr = plt.subplots(1, 5)\n",
        "axarr[1].imshow(X[11])\n",
        "#plt.show()"
      ],
      "execution_count": 17,
      "outputs": [
        {
          "output_type": "stream",
          "text": [
            "Clipping input data to the valid range for imshow with RGB data ([0..1] for floats or [0..255] for integers).\n"
          ],
          "name": "stderr"
        },
        {
          "output_type": "execute_result",
          "data": {
            "text/plain": [
              "<matplotlib.image.AxesImage at 0x7efd46855940>"
            ]
          },
          "metadata": {
            "tags": []
          },
          "execution_count": 17
        },
        {
          "output_type": "display_data",
          "data": {
            "image/png": "[encoded data removed]",
            "text/plain": [
              "<Figure size 432x288 with 5 Axes>"
            ]
          },
          "metadata": {
            "tags": [],
            "needs_background": "light"
          }
        }
      ]
    },
    {
      "cell_type": "code",
      "metadata": {
        "id": "jiQA7S02LC4c",
        "colab_type": "code",
        "colab": {}
      },
      "source": [
        "from keras.utils.np_utils import to_categorical   "
      ],
      "execution_count": 18,
      "outputs": []
    },
    {
      "cell_type": "code",
      "metadata": {
        "id": "7RIM4Tr7KWdX",
        "colab_type": "code",
        "colab": {}
      },
      "source": [
        "y_train = to_categorical(Y, num_classes=15)\n",
        "y_test = to_categorical(Y_test, num_classes=15)\n",
        "X_train = X.astype('float32')\n",
        "X_test = X_test.astype('float32')\n",
        "X_train /= 255\n",
        "X_test /= 255"
      ],
      "execution_count": 20,
      "outputs": []
    },
    {
      "cell_type": "code",
      "metadata": {
        "id": "ZT05lRJfxtgg",
        "colab_type": "code",
        "colab": {
          "base_uri": "https://localhost:8080/",
          "height": 303
        },
        "outputId": "6ecdc76e-8ac3-42c4-f850-86fe7352d596"
      },
      "source": [
        "f, axarr = plt.subplots(1, 5)\n",
        "axarr[1].imshow(X_train[160])\n",
        "#plt.show()"
      ],
      "execution_count": 23,
      "outputs": [
        {
          "output_type": "stream",
          "text": [
            "Clipping input data to the valid range for imshow with RGB data ([0..1] for floats or [0..255] for integers).\n"
          ],
          "name": "stderr"
        },
        {
          "output_type": "execute_result",
          "data": {
            "text/plain": [
              "<matplotlib.image.AxesImage at 0x7efd465b1390>"
            ]
          },
          "metadata": {
            "tags": []
          },
          "execution_count": 23
        },
        {
          "output_type": "display_data",
          "data": {
            "image/png": "[encoded data removed]",
            "text/plain": [
              "<Figure size 432x288 with 5 Axes>"
            ]
          },
          "metadata": {
            "tags": [],
            "needs_background": "light"
          }
        }
      ]
    },
    {
      "cell_type": "code",
      "metadata": {
        "id": "oGdG5TwELFb7",
        "colab_type": "code",
        "colab": {
          "base_uri": "https://localhost:8080/",
          "height": 119
        },
        "outputId": "fea44404-6532-4793-a3b0-63fe2bb9d0b0"
      },
      "source": [
        "print(\"Shape of training data:\")\n",
        "print(X_train.shape)\n",
        "print(y_train.shape)\n",
        "print(\"Shape of test data:\")\n",
        "print(X_test.shape)\n",
        "print(y_test.shape)"
      ],
      "execution_count": 24,
      "outputs": [
        {
          "output_type": "stream",
          "text": [
            "Shape of training data:\n",
            "(450, 224, 224, 3)\n",
            "(450, 15)\n",
            "Shape of test data:\n",
            "(2856, 224, 224, 3)\n",
            "(2856, 15)\n"
          ],
          "name": "stdout"
        }
      ]
    },
    {
      "cell_type": "code",
      "metadata": {
        "id": "OFpMA5y1O0QV",
        "colab_type": "code",
        "colab": {}
      },
      "source": [
        "from keras.layers import Dense, Flatten\n",
        "from keras.layers import Conv2D, MaxPooling2D\n",
        "from keras.models import Sequential\n",
        "from keras.layers import Dense, Activation, Dropout\n",
        "from keras.optimizers import SGD\n",
        "\n",
        "model = Sequential()\n",
        "\n",
        "model.add(Conv2D(224, (3, 3), activation='relu', input_shape=(224, 224, 3)))\n",
        "model.add(Conv2D(224, (3, 3), activation='relu'))\n",
        "model.add(MaxPooling2D(pool_size=(2, 2)))\n",
        "\n",
        "model.add(Flatten())\n",
        "model.add(Dense(256, activation='relu'))\n",
        "model.add(Dense(15, activation='softmax'))\n",
        "\n",
        "sgd = SGD(lr=0.01, decay=1e-6, momentum=0.9, nesterov=True)\n",
        "model.compile(loss='categorical_crossentropy', metrics=['accuracy'], optimizer=sgd)"
      ],
      "execution_count": 3,
      "outputs": []
    }
  ]
}