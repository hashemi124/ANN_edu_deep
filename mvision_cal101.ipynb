{
  "nbformat": 4,
  "nbformat_minor": 0,
  "metadata": {
    "colab": {
      "name": "Untitled2.ipynb",
      "provenance": [],
      "collapsed_sections": [],
      "include_colab_link": true
    },
    "kernelspec": {
      "name": "python3",
      "display_name": "Python 3"
    }
  },
  "cells": [
    {
      "cell_type": "markdown",
      "metadata": {
        "id": "view-in-github",
        "colab_type": "text"
      },
      "source": [
        "<a href=\"https://colab.research.google.com/github/hashemi124/ANN_edu_deep/blob/master/mvision_cal101.ipynb\" target=\"_parent\"><img src=\"https://colab.research.google.com/assets/colab-badge.svg\" alt=\"Open In Colab\"/></a>"
      ]
    },
    {
      "cell_type": "code",
      "metadata": {
        "id": "d7QriZNCGwci",
        "colab_type": "code",
        "colab": {
          "base_uri": "https://localhost:8080/",
          "height": 34
        },
        "outputId": "94122589-55bb-4985-ac8e-1a52117684e6"
      },
      "source": [
        "\n",
        "import numpy as np\n",
        "import pandas as pd\n",
        "import matplotlib.pyplot as plt\n",
        "%matplotlib inline\n",
        "#from keras.datasets import mnist\n",
        "from keras import *\n",
        "from keras.models import Sequential\n",
        "from keras.layers import Dense, Dropout, Activation, Flatten\n",
        "from keras.optimizers import Adam,SGD\n",
        "from keras.layers.normalization import BatchNormalization\n",
        "from keras.utils import np_utils\n",
        "from keras.layers import Conv2D, MaxPooling2D, ZeroPadding2D, GlobalAveragePooling2D\n",
        "from keras.layers.advanced_activations import LeakyReLU \n",
        "from keras.preprocessing.image import ImageDataGenerator\n",
        "from keras.preprocessing import image\n",
        "from sklearn.model_selection import train_test_split\n",
        "import glob\n",
        "from skimage import io\n",
        "import os\n",
        "import scipy.misc\n",
        "from keras.layers import Dense, Flatten\n",
        "from keras.layers import Conv2D, MaxPooling2D\n",
        "from keras.models import Sequential\n",
        "from keras.layers import Dense, Activation, Dropout\n",
        "from keras.optimizers import SGD\n",
        "from keras import regularizers\n",
        "import csv\n",
        "from keras.applications.inception_v3 import InceptionV3, preprocess_input"
      ],
      "execution_count": 1,
      "outputs": [
        {
          "output_type": "stream",
          "text": [
            "Using TensorFlow backend.\n"
          ],
          "name": "stderr"
        }
      ]
    },
    {
      "cell_type": "code",
      "metadata": {
        "id": "luK5-l7ZFTom",
        "colab_type": "code",
        "colab": {
          "base_uri": "https://localhost:8080/",
          "height": 34
        },
        "outputId": "c35651e3-3691-4466-bf4d-6ec2d8f5fb5e"
      },
      "source": [
        "from google.colab import drive\n",
        "drive.mount('/content/drive')"
      ],
      "execution_count": 2,
      "outputs": [
        {
          "output_type": "stream",
          "text": [
            "Drive already mounted at /content/drive; to attempt to forcibly remount, call drive.mount(\"/content/drive\", force_remount=True).\n"
          ],
          "name": "stdout"
        }
      ]
    },
    {
      "cell_type": "code",
      "metadata": {
        "id": "W2jiVREk_1cO",
        "colab_type": "code",
        "colab": {
          "base_uri": "https://localhost:8080/",
          "height": 34
        },
        "outputId": "2135621d-c4d7-4146-904e-5b2e3af7b823"
      },
      "source": [
        "datasets_path = '/content/drive/My Drive/Colab Notebooks/Caltech101/train' #Add the path to the unzipped folder\n",
        "\n",
        "def load_images(path,n=0):\n",
        "    X = []\n",
        "    Y=[]\n",
        "    i=-1\n",
        "    labels = []\n",
        "    for label in os.listdir(path):\n",
        "        back_path = os.path.join(path,label)\n",
        "        labels.append(label)\n",
        "        i = i+1\n",
        "        for filename in os.listdir(back_path):\n",
        "            image_path = os.path.join(back_path,filename)\n",
        "            img = image.load_img(image_path,target_size=(32,32))\n",
        "            img = image.img_to_array(img)\n",
        "            #Y.append(image)\n",
        "            #image = imresize(image,[128,128,3])\n",
        "            #image = imresize(imread(image_path), [128,128, 3])\n",
        "            #image = image.astype('float32')\n",
        "            img[:,:,0] -= 123.68\n",
        "            img[:,:,1] -= 116.78\n",
        "            img[:,:,2] -= 103.94\n",
        "            #image = image/255\n",
        "            #image = 1-image\n",
        "            Y.append(i)\n",
        "            X.append(img)\n",
        "            #X.append(image.img_to_array(img))\n",
        "            #X.append(image)\n",
        "    return X,Y,labels\n",
        "\n",
        "x_train,y,label_data = load_images(datasets_path)\n",
        "X = np.array(x_train)\n",
        "#print(len(x_train))\n",
        "#print(x_train.shape)\n",
        "Y = np.array(y)\n",
        "print(X.shape)"
      ],
      "execution_count": 3,
      "outputs": [
        {
          "output_type": "stream",
          "text": [
            "(450, 32, 32, 3)\n"
          ],
          "name": "stdout"
        }
      ]
    },
    {
      "cell_type": "code",
      "metadata": {
        "id": "-TlWfJYSCWQ9",
        "colab_type": "code",
        "colab": {
          "base_uri": "https://localhost:8080/",
          "height": 34
        },
        "outputId": "2a7855e1-9b7b-4493-cd56-e62f2f990f0c"
      },
      "source": [
        "datasets_path = '/content/drive/My Drive/Colab Notebooks/Caltech101/test' #Add the path to the unzipped folder\n",
        "\n",
        "def load_images(path,n=0):\n",
        "    X = []\n",
        "    Y=[]\n",
        "    i=-1\n",
        "    labels = []\n",
        "    for label in os.listdir(path):\n",
        "        back_path = os.path.join(path,label)\n",
        "        labels.append(label)\n",
        "        i = i+1\n",
        "        for filename in os.listdir(back_path):\n",
        "            image_path = os.path.join(back_path,filename)\n",
        "            img = image.load_img(image_path,target_size=(32,32))\n",
        "            img = image.img_to_array(img)\n",
        "            #Y.append(image)\n",
        "            #image = imresize(image,[128,128,3])\n",
        "            #image = imresize(imread(image_path), [128,128, 3])\n",
        "            #image = image.astype('float32')\n",
        "            img[:,:,0] -= 123.68\n",
        "            img[:,:,1] -= 116.78\n",
        "            img[:,:,2] -= 103.94\n",
        "            #image = image/255\n",
        "            #image = 1-image\n",
        "            Y.append(i)\n",
        "            X.append(img)\n",
        "            #X.append(image.img_to_array(img))\n",
        "            #X.append(image)\n",
        "    return X,Y,labels\n",
        "\n",
        "x,y,label_data = load_images(datasets_path)\n",
        "X_test= np.array(x)\n",
        "#print(len(x_train))\n",
        "#print(x_train.shape)\n",
        "Y_test = np.array(y)\n",
        "print(X_test.shape)"
      ],
      "execution_count": 4,
      "outputs": [
        {
          "output_type": "stream",
          "text": [
            "(2856, 32, 32, 3)\n"
          ],
          "name": "stdout"
        }
      ]
    },
    {
      "cell_type": "code",
      "metadata": {
        "id": "VGE_BbldmiR9",
        "colab_type": "code",
        "colab": {
          "base_uri": "https://localhost:8080/",
          "height": 119
        },
        "outputId": "510df5f4-f95f-4d28-de19-c4482d1bbad9"
      },
      "source": [
        "print(\"Shape of training data:\")\n",
        "print(X.shape)\n",
        "print(Y.shape)\n",
        "print(\"Shape of test data:\")\n",
        "print(X_test.shape)\n",
        "print(Y_test.shape)"
      ],
      "execution_count": 5,
      "outputs": [
        {
          "output_type": "stream",
          "text": [
            "Shape of training data:\n",
            "(450, 32, 32, 3)\n",
            "(450,)\n",
            "Shape of test data:\n",
            "(2856, 32, 32, 3)\n",
            "(2856,)\n"
          ],
          "name": "stdout"
        }
      ]
    },
    {
      "cell_type": "code",
      "metadata": {
        "id": "sxGNSmMkoZgH",
        "colab_type": "code",
        "colab": {
          "base_uri": "https://localhost:8080/",
          "height": 303
        },
        "outputId": "a8f9a9a2-6c15-4f23-c179-65bed6f004eb"
      },
      "source": [
        "import matplotlib.pyplot as plt\n",
        "f, axarr = plt.subplots(1, 5)\n",
        "axarr[1].imshow(X[11])\n",
        "#plt.show()"
      ],
      "execution_count": 6,
      "outputs": [
        {
          "output_type": "stream",
          "text": [
            "Clipping input data to the valid range for imshow with RGB data ([0..1] for floats or [0..255] for integers).\n"
          ],
          "name": "stderr"
        },
        {
          "output_type": "execute_result",
          "data": {
            "text/plain": [
              "<matplotlib.image.AxesImage at 0x7fa81f26d080>"
            ]
          },
          "metadata": {
            "tags": []
          },
          "execution_count": 6
        },
        {
          "output_type": "display_data",
          "data": {
            "image/png": "[encoded data removed]",
            "text/plain": [
              "<Figure size 432x288 with 5 Axes>"
            ]
          },
          "metadata": {
            "tags": [],
            "needs_background": "light"
          }
        }
      ]
    },
    {
      "cell_type": "code",
      "metadata": {
        "id": "jiQA7S02LC4c",
        "colab_type": "code",
        "colab": {}
      },
      "source": [
        "from keras.utils.np_utils import to_categorical   "
      ],
      "execution_count": 7,
      "outputs": []
    },
    {
      "cell_type": "code",
      "metadata": {
        "id": "7RIM4Tr7KWdX",
        "colab_type": "code",
        "colab": {}
      },
      "source": [
        "y_train = to_categorical(Y, num_classes=15)\n",
        "y_test = to_categorical(Y_test, num_classes=15)\n",
        "X_train = X.astype('float32')\n",
        "X_test = X_test.astype('float32')\n",
        "X_train /= 255\n",
        "X_test /= 255"
      ],
      "execution_count": 8,
      "outputs": []
    },
    {
      "cell_type": "code",
      "metadata": {
        "id": "ZT05lRJfxtgg",
        "colab_type": "code",
        "colab": {
          "base_uri": "https://localhost:8080/",
          "height": 303
        },
        "outputId": "cb5e1dbd-03ed-45aa-e9aa-d5c90101c8f6"
      },
      "source": [
        "f, axarr = plt.subplots(1, 5)\n",
        "axarr[1].imshow(X_train[160])\n",
        "#plt.show()"
      ],
      "execution_count": 9,
      "outputs": [
        {
          "output_type": "stream",
          "text": [
            "Clipping input data to the valid range for imshow with RGB data ([0..1] for floats or [0..255] for integers).\n"
          ],
          "name": "stderr"
        },
        {
          "output_type": "execute_result",
          "data": {
            "text/plain": [
              "<matplotlib.image.AxesImage at 0x7fa81f0c1160>"
            ]
          },
          "metadata": {
            "tags": []
          },
          "execution_count": 9
        },
        {
          "output_type": "display_data",
          "data": {
            "image/png": "[encoded data removed]",
            "text/plain": [
              "<Figure size 432x288 with 5 Axes>"
            ]
          },
          "metadata": {
            "tags": [],
            "needs_background": "light"
          }
        }
      ]
    },
    {
      "cell_type": "code",
      "metadata": {
        "id": "oGdG5TwELFb7",
        "colab_type": "code",
        "colab": {
          "base_uri": "https://localhost:8080/",
          "height": 119
        },
        "outputId": "0f92d997-6db4-47a3-f5cb-ea5111a32bce"
      },
      "source": [
        "print(\"Shape of training data:\")\n",
        "print(X_train.shape)\n",
        "print(y_train.shape)\n",
        "print(\"Shape of test data:\")\n",
        "print(X_test.shape)\n",
        "print(y_test.shape)"
      ],
      "execution_count": 10,
      "outputs": [
        {
          "output_type": "stream",
          "text": [
            "Shape of training data:\n",
            "(450, 32, 32, 3)\n",
            "(450, 15)\n",
            "Shape of test data:\n",
            "(2856, 32, 32, 3)\n",
            "(2856, 15)\n"
          ],
          "name": "stdout"
        }
      ]
    },
    {
      "cell_type": "code",
      "metadata": {
        "id": "OFpMA5y1O0QV",
        "colab_type": "code",
        "colab": {}
      },
      "source": [
        "\n",
        "\n",
        "model = Sequential()\n",
        "\n",
        "model.add(Conv2D(32, (3, 3), activation='relu', input_shape=(32, 32, 3)))\n",
        "model.add(Conv2D(32, (3, 3), activation='relu'))\n",
        "model.add(MaxPooling2D(pool_size=(2, 2)))\n",
        "# Dropout layer added here\n",
        "model.add(Dropout(0.25))\n",
        "\n",
        "model.add(Flatten())\n",
        "model.add(Dense(256, activation='relu'))\n",
        "# Dropout layer added here\n",
        "model.add(Dropout(0.5))\n",
        "model.add(Dense(15, activation='softmax'))\n",
        "\n",
        "sgd = SGD(lr=0.01, decay=1e-6, momentum=0.9, nesterov=True)\n",
        "model.compile(loss='categorical_crossentropy', metrics=['accuracy'], optimizer=sgd)"
      ],
      "execution_count": 11,
      "outputs": []
    },
    {
      "cell_type": "code",
      "metadata": {
        "id": "Ij3qwN6wzmoV",
        "colab_type": "code",
        "colab": {
          "base_uri": "https://localhost:8080/",
          "height": 1000
        },
        "outputId": "e4a6964e-a439-4c32-ea81-921008df6ff1"
      },
      "source": [
        "history = model.fit(X_train, y_train, batch_size=32, epochs=50, verbose=2, validation_split=0.2)"
      ],
      "execution_count": 13,
      "outputs": [
        {
          "output_type": "stream",
          "text": [
            "Train on 360 samples, validate on 90 samples\n",
            "Epoch 1/50\n",
            " - 1s - loss: 0.4434 - accuracy: 0.8750 - val_loss: 9.4588 - val_accuracy: 0.0000e+00\n",
            "Epoch 2/50\n",
            " - 1s - loss: 0.3389 - accuracy: 0.9167 - val_loss: 9.5314 - val_accuracy: 0.0000e+00\n",
            "Epoch 3/50\n",
            " - 1s - loss: 0.2875 - accuracy: 0.9083 - val_loss: 10.2196 - val_accuracy: 0.0000e+00\n",
            "Epoch 4/50\n",
            " - 1s - loss: 0.2419 - accuracy: 0.9306 - val_loss: 9.7977 - val_accuracy: 0.0000e+00\n",
            "Epoch 5/50\n",
            " - 1s - loss: 0.1899 - accuracy: 0.9389 - val_loss: 10.6214 - val_accuracy: 0.0000e+00\n",
            "Epoch 6/50\n",
            " - 1s - loss: 0.1833 - accuracy: 0.9306 - val_loss: 11.2835 - val_accuracy: 0.0000e+00\n",
            "Epoch 7/50\n",
            " - 1s - loss: 0.1471 - accuracy: 0.9639 - val_loss: 11.4668 - val_accuracy: 0.0000e+00\n",
            "Epoch 8/50\n",
            " - 1s - loss: 0.1040 - accuracy: 0.9750 - val_loss: 13.0013 - val_accuracy: 0.0000e+00\n",
            "Epoch 9/50\n",
            " - 1s - loss: 0.0932 - accuracy: 0.9806 - val_loss: 13.1061 - val_accuracy: 0.0000e+00\n",
            "Epoch 10/50\n",
            " - 1s - loss: 0.1027 - accuracy: 0.9556 - val_loss: 12.9143 - val_accuracy: 0.0000e+00\n",
            "Epoch 11/50\n",
            " - 1s - loss: 0.1040 - accuracy: 0.9778 - val_loss: 12.9335 - val_accuracy: 0.0000e+00\n",
            "Epoch 12/50\n",
            " - 1s - loss: 0.1289 - accuracy: 0.9667 - val_loss: 11.4288 - val_accuracy: 0.0000e+00\n",
            "Epoch 13/50\n",
            " - 1s - loss: 0.0791 - accuracy: 0.9750 - val_loss: 11.7502 - val_accuracy: 0.0000e+00\n",
            "Epoch 14/50\n",
            " - 1s - loss: 0.1412 - accuracy: 0.9639 - val_loss: 12.2979 - val_accuracy: 0.0000e+00\n",
            "Epoch 15/50\n",
            " - 1s - loss: 0.0634 - accuracy: 0.9861 - val_loss: 12.5050 - val_accuracy: 0.0000e+00\n",
            "Epoch 16/50\n",
            " - 1s - loss: 0.0484 - accuracy: 0.9917 - val_loss: 13.3681 - val_accuracy: 0.0000e+00\n",
            "Epoch 17/50\n",
            " - 1s - loss: 0.0399 - accuracy: 0.9944 - val_loss: 13.9644 - val_accuracy: 0.0000e+00\n",
            "Epoch 18/50\n",
            " - 1s - loss: 0.0528 - accuracy: 0.9806 - val_loss: 14.3024 - val_accuracy: 0.0000e+00\n",
            "Epoch 19/50\n",
            " - 1s - loss: 0.0462 - accuracy: 0.9917 - val_loss: 13.5180 - val_accuracy: 0.0000e+00\n",
            "Epoch 20/50\n",
            " - 1s - loss: 0.0425 - accuracy: 0.9861 - val_loss: 13.1430 - val_accuracy: 0.0000e+00\n",
            "Epoch 21/50\n",
            " - 1s - loss: 0.0398 - accuracy: 0.9944 - val_loss: 13.9445 - val_accuracy: 0.0000e+00\n",
            "Epoch 22/50\n",
            " - 1s - loss: 0.0299 - accuracy: 0.9917 - val_loss: 14.6912 - val_accuracy: 0.0000e+00\n",
            "Epoch 23/50\n",
            " - 1s - loss: 0.0233 - accuracy: 0.9889 - val_loss: 15.4474 - val_accuracy: 0.0000e+00\n",
            "Epoch 24/50\n",
            " - 1s - loss: 0.0201 - accuracy: 0.9972 - val_loss: 15.6267 - val_accuracy: 0.0000e+00\n",
            "Epoch 25/50\n",
            " - 1s - loss: 0.0371 - accuracy: 0.9944 - val_loss: 14.8990 - val_accuracy: 0.0000e+00\n",
            "Epoch 26/50\n",
            " - 1s - loss: 0.0300 - accuracy: 0.9889 - val_loss: 14.4647 - val_accuracy: 0.0000e+00\n",
            "Epoch 27/50\n",
            " - 1s - loss: 0.0368 - accuracy: 0.9889 - val_loss: 14.3025 - val_accuracy: 0.0000e+00\n",
            "Epoch 28/50\n",
            " - 1s - loss: 0.0146 - accuracy: 1.0000 - val_loss: 14.9401 - val_accuracy: 0.0000e+00\n",
            "Epoch 29/50\n",
            " - 1s - loss: 0.0310 - accuracy: 0.9944 - val_loss: 14.5726 - val_accuracy: 0.0000e+00\n",
            "Epoch 30/50\n",
            " - 1s - loss: 0.0235 - accuracy: 0.9944 - val_loss: 13.9588 - val_accuracy: 0.0000e+00\n",
            "Epoch 31/50\n",
            " - 1s - loss: 0.0135 - accuracy: 1.0000 - val_loss: 14.0814 - val_accuracy: 0.0000e+00\n",
            "Epoch 32/50\n",
            " - 1s - loss: 0.0135 - accuracy: 1.0000 - val_loss: 14.5198 - val_accuracy: 0.0000e+00\n",
            "Epoch 33/50\n",
            " - 1s - loss: 0.0218 - accuracy: 0.9917 - val_loss: 14.9459 - val_accuracy: 0.0000e+00\n",
            "Epoch 34/50\n",
            " - 1s - loss: 0.0191 - accuracy: 0.9944 - val_loss: 15.0885 - val_accuracy: 0.0000e+00\n",
            "Epoch 35/50\n",
            " - 1s - loss: 0.0098 - accuracy: 1.0000 - val_loss: 15.2471 - val_accuracy: 0.0000e+00\n",
            "Epoch 36/50\n",
            " - 1s - loss: 0.0237 - accuracy: 0.9972 - val_loss: 15.1156 - val_accuracy: 0.0000e+00\n",
            "Epoch 37/50\n",
            " - 1s - loss: 0.0245 - accuracy: 0.9944 - val_loss: 15.1714 - val_accuracy: 0.0000e+00\n",
            "Epoch 38/50\n",
            " - 1s - loss: 0.0219 - accuracy: 0.9944 - val_loss: 15.1804 - val_accuracy: 0.0000e+00\n",
            "Epoch 39/50\n",
            " - 1s - loss: 0.0206 - accuracy: 0.9944 - val_loss: 15.3071 - val_accuracy: 0.0000e+00\n",
            "Epoch 40/50\n",
            " - 1s - loss: 0.0137 - accuracy: 0.9972 - val_loss: 14.9371 - val_accuracy: 0.0000e+00\n",
            "Epoch 41/50\n",
            " - 1s - loss: 0.0128 - accuracy: 1.0000 - val_loss: 15.6117 - val_accuracy: 0.0000e+00\n",
            "Epoch 42/50\n",
            " - 1s - loss: 0.0193 - accuracy: 0.9944 - val_loss: 16.2644 - val_accuracy: 0.0000e+00\n",
            "Epoch 43/50\n",
            " - 1s - loss: 0.0207 - accuracy: 0.9917 - val_loss: 16.1309 - val_accuracy: 0.0000e+00\n",
            "Epoch 44/50\n",
            " - 1s - loss: 0.0821 - accuracy: 0.9778 - val_loss: 14.9348 - val_accuracy: 0.0000e+00\n",
            "Epoch 45/50\n",
            " - 1s - loss: 0.0527 - accuracy: 0.9833 - val_loss: 13.7405 - val_accuracy: 0.0000e+00\n",
            "Epoch 46/50\n",
            " - 1s - loss: 0.0324 - accuracy: 0.9944 - val_loss: 13.8055 - val_accuracy: 0.0000e+00\n",
            "Epoch 47/50\n",
            " - 1s - loss: 0.0269 - accuracy: 0.9944 - val_loss: 14.0893 - val_accuracy: 0.0000e+00\n",
            "Epoch 48/50\n",
            " - 1s - loss: 0.0295 - accuracy: 0.9889 - val_loss: 13.4818 - val_accuracy: 0.0000e+00\n",
            "Epoch 49/50\n",
            " - 1s - loss: 0.0148 - accuracy: 0.9944 - val_loss: 13.7246 - val_accuracy: 0.0000e+00\n",
            "Epoch 50/50\n",
            " - 1s - loss: 0.0153 - accuracy: 1.0000 - val_loss: 14.4683 - val_accuracy: 0.0000e+00\n"
          ],
          "name": "stdout"
        }
      ]
    },
    {
      "cell_type": "code",
      "metadata": {
        "id": "nb6l6ZKa2EZw",
        "colab_type": "code",
        "colab": {}
      },
      "source": [
        "def plotLosses(history):  \n",
        "    plt.plot(history.history['loss'])\n",
        "    plt.plot(history.history['val_loss'])\n",
        "    plt.title('model loss')\n",
        "    plt.ylabel('loss')\n",
        "    plt.xlabel('epoch')\n",
        "    plt.legend(['train', 'validation'], loc='upper left')\n",
        "    plt.show()"
      ],
      "execution_count": 16,
      "outputs": []
    },
    {
      "cell_type": "code",
      "metadata": {
        "id": "UXVrjm0g2YHE",
        "colab_type": "code",
        "colab": {
          "base_uri": "https://localhost:8080/",
          "height": 295
        },
        "outputId": "fa84f69a-91c9-48db-8fc6-2d8014d9461d"
      },
      "source": [
        "plotLosses(history)"
      ],
      "execution_count": 17,
      "outputs": [
        {
          "output_type": "display_data",
          "data": {
            "image/png": "[encoded data removed]",
            "text/plain": [
              "<Figure size 432x288 with 1 Axes>"
            ]
          },
          "metadata": {
            "tags": [],
            "needs_background": "light"
          }
        }
      ]
    }
  ]
}